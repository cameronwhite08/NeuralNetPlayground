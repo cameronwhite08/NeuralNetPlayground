{
 "cells": [
  {
   "cell_type": "code",
   "execution_count": 1,
   "metadata": {
    "collapsed": true
   },
   "outputs": [
    {
     "name": "stderr",
     "output_type": "stream",
     "text": [
      "C:\\Users\\Cameron\\Anaconda3\\lib\\site-packages\\h5py\\__init__.py:36: FutureWarning: Conversion of the second argument of issubdtype from `float` to `np.floating` is deprecated. In future, it will be treated as `np.float64 == np.dtype(float).type`.\n  from ._conv import register_converters as _register_converters\nUsing TensorFlow backend.\n"
     ]
    }
   ],
   "source": [
    "# import all the libraries we need\n",
    "from datetime import datetime\n",
    "\n",
    "import matplotlib.pyplot as plt\n",
    "\n",
    "import pandas as pd\n",
    "\n",
    "import numpy as np\n",
    "\n",
    "import keras\n",
    "from keras.models import Sequential\n",
    "from keras.layers import Dense\n"
   ]
  },
  {
   "cell_type": "code",
   "execution_count": 2,
   "metadata": {},
   "outputs": [],
   "source": [
    "# For visualizing a row of the dataset, transforming it into 8x8 image form\n",
    "def visualize_img(img_vec, title=\"\"):\n",
    "    plt.imshow(img_vec.values.reshape((8,8)), cmap=\"hot\")\n",
    "    plt.title(title)\n",
    "    plt.show()\n",
    "# To add a timestamp to a string of text\n",
    "def add_timestamp(text):\n",
    "    return text + str(datetime.now().year) \\\n",
    "           + str(datetime.now().month) \\\n",
    "           + str(datetime.now().day) \\\n",
    "           + str(datetime.now().second)"
   ]
  },
  {
   "cell_type": "code",
   "execution_count": 3,
   "metadata": {
    "collapsed": true
   },
   "outputs": [],
   "source": [
    "# load data from text files\n",
    "x = pd.read_csv('NumNet/data/optdigits_train.txt', usecols=[x for x in range(64)], header=None)\n",
    "y = pd.read_csv('NumNet/data/optdigits_train.txt', usecols=[64], header=None)\n",
    "test = pd.read_csv('NumNet/data/optdigits_test.txt', usecols=[x for x in range(64)], header=None)\n",
    "test_label = pd.read_csv('NumNet/data/optdigits_test.txt', usecols=[64], header=None)"
   ]
  },
  {
   "cell_type": "code",
   "execution_count": 4,
   "metadata": {},
   "outputs": [],
   "source": [
    "# Convert the y data to [0 0 1 0 ... 0] form\n",
    "y = keras.utils.to_categorical(y, num_classes=10)\n",
    "test_label = keras.utils.to_categorical(test_label, num_classes=10)"
   ]
  },
  {
   "cell_type": "code",
   "execution_count": 5,
   "metadata": {
    "collapsed": true
   },
   "outputs": [
    {
     "name": "stdout",
     "output_type": "stream",
     "text": [
      "           0            1            2            3            4   \\\ncount  3823.0  3823.000000  3823.000000  3823.000000  3823.000000   \nmean      0.0     0.301334     5.481821    11.805912    11.451478   \nstd       0.0     0.866986     4.631601     4.259811     4.537556   \nmin       0.0     0.000000     0.000000     0.000000     0.000000   \n25%       0.0     0.000000     1.000000    10.000000     9.000000   \n50%       0.0     0.000000     5.000000    13.000000    13.000000   \n75%       0.0     0.000000     9.000000    15.000000    15.000000   \nmax       0.0     8.000000    16.000000    16.000000    16.000000   \n\n                5            6            7            8            9   \\\ncount  3823.000000  3823.000000  3823.000000  3823.000000  3823.000000   \nmean      5.505362     1.387392     0.142297     0.002093     1.960502   \nstd       5.613060     3.371444     1.051598     0.088572     3.052353   \nmin       0.000000     0.000000     0.000000     0.000000     0.000000   \n25%       0.000000     0.000000     0.000000     0.000000     0.000000   \n50%       4.000000     0.000000     0.000000     0.000000     0.000000   \n75%      10.000000     0.000000     0.000000     0.000000     3.000000   \nmax      16.000000    16.000000    16.000000     5.000000    15.000000   \n\n          ...                54           55           56           57  \\\ncount     ...       3823.000000  3823.000000  3823.000000  3823.000000   \nmean      ...          3.743918     0.148313     0.000262     0.283024   \nstd       ...          4.901657     0.767761     0.016173     0.928046   \nmin       ...          0.000000     0.000000     0.000000     0.000000   \n25%       ...          0.000000     0.000000     0.000000     0.000000   \n50%       ...          1.000000     0.000000     0.000000     0.000000   \n75%       ...          7.000000     0.000000     0.000000     0.000000   \nmax       ...         16.000000    12.000000     1.000000    10.000000   \n\n                58           59           60           61           62  \\\ncount  3823.000000  3823.000000  3823.000000  3823.000000  3823.000000   \nmean      5.855872    11.942977    11.461156     6.700497     2.105676   \nstd       4.980012     4.334508     4.991934     5.775815     4.028266   \nmin       0.000000     0.000000     0.000000     0.000000     0.000000   \n25%       1.000000    10.000000     9.000000     0.000000     0.000000   \n50%       5.000000    13.000000    13.000000     6.000000     0.000000   \n75%      10.000000    15.000000    16.000000    12.000000     2.000000   \nmax      16.000000    16.000000    16.000000    16.000000    16.000000   \n\n                63  \ncount  3823.000000  \nmean      0.202197  \nstd       1.150694  \nmin       0.000000  \n25%       0.000000  \n50%       0.000000  \n75%       0.000000  \nmax      16.000000  \n\n[8 rows x 64 columns]\n"
     ]
    }
   ],
   "source": [
    "# get a feel for what data in in the training set\n",
    "print(x.describe())"
   ]
  },
  {
   "cell_type": "code",
   "execution_count": 11,
   "metadata": {},
   "outputs": [],
   "source": [
    "# to visualize dataset\n",
    "random_indices = np.random.randint(0, x.shape[0], 3)  \n",
    "for idx in random_indices:\n",
    "    visualize_img(x.iloc[idx, :], title=str(idx))"
   ]
  },
  {
   "cell_type": "code",
   "execution_count": 6,
   "metadata": {},
   "outputs": [],
   "source": [
    "# gather means and std's\n",
    "x_means = x.mean(axis=0)\n",
    "x_stds = x.std(axis=0)\n",
    "test_means = test.mean(axis=0)\n",
    "test_stds = test.std(axis=0)\n",
    "\n",
    "# Make training and testing set have Zero mean\n",
    "# and 1 standard deviation\n",
    "x = x.subtract(x_means)\n",
    "x = x.divide(x_stds).fillna(0)\n",
    "test = test.subtract(test_means)\n",
    "test = test.divide(test_stds).fillna(0)"
   ]
  },
  {
   "cell_type": "code",
   "execution_count": 7,
   "metadata": {},
   "outputs": [],
   "source": [
    "# build the model\n",
    "model = Sequential()\n",
    "model.add(Dense(10, activation='relu', input_dim=64))\n",
    "model.add(Dense(10, activation='softmax'))\n",
    "# I went with the simplest model i could. I wanted to try to keep max\n",
    "# accuracy above 94% and have a fast training time\n",
    "model.compile(loss='categorical_crossentropy',      # A way to compare outputs of categorical problems where each is in a range [0,1]\n",
    "              optimizer='adam',                     # a good optimizer\n",
    "              metrics=['accuracy'])                 # use the model accuracy for training"
   ]
  },
  {
   "cell_type": "code",
   "execution_count": 8,
   "metadata": {
    "collapsed": true
   },
   "outputs": [
    {
     "name": "stderr",
     "output_type": "stream",
     "text": [
      "C:\\Users\\Cameron\\Anaconda3\\lib\\site-packages\\ipykernel_launcher.py:2: FutureWarning: Method .as_matrix will be removed in a future version. Use .values instead.\n  \n"
     ]
    },
    {
     "name": "stdout",
     "output_type": "stream",
     "text": [
      "Epoch 1/20\n\r  32/3823 [..............................] - ETA: 18s - loss: 2.4413 - acc: 0.1562"
     ]
    },
    {
     "name": "stdout",
     "output_type": "stream",
     "text": [
      "\b\b\b\b\b\b\b\b\b\b\b\b\b\b\b\b\b\b\b\b\b\b\b\b\b\b\b\b\b\b\b\b\b\b\b\b\b\b\b\b\b\b\b\b\b\b\b\b\b\b\b\b\b\b\b\b\b\b\b\b\b\b\b\b\b\b\b\b\b\b\b\b\b\b\b\b\b\b\b\b\b\b\r1728/3823 [============>.................] - ETA: 0s - loss: 2.0958 - acc: 0.2726 "
     ]
    },
    {
     "name": "stdout",
     "output_type": "stream",
     "text": [
      "\b\b\b\b\b\b\b\b\b\b\b\b\b\b\b\b\b\b\b\b\b\b\b\b\b\b\b\b\b\b\b\b\b\b\b\b\b\b\b\b\b\b\b\b\b\b\b\b\b\b\b\b\b\b\b\b\b\b\b\b\b\b\b\b\b\b\b\b\b\b\b\b\b\b\b\b\b\b\b\b\b\r3823/3823 [==============================] - 0s 66us/step - loss: 1.8390 - acc: 0.4261\n"
     ]
    },
    {
     "name": "stdout",
     "output_type": "stream",
     "text": [
      "Epoch 2/20\n\r  32/3823 [..............................] - ETA: 0s - loss: 1.4403 - acc: 0.5312"
     ]
    },
    {
     "name": "stdout",
     "output_type": "stream",
     "text": [
      "\b\b\b\b\b\b\b\b\b\b\b\b\b\b\b\b\b\b\b\b\b\b\b\b\b\b\b\b\b\b\b\b\b\b\b\b\b\b\b\b\b\b\b\b\b\b\b\b\b\b\b\b\b\b\b\b\b\b\b\b\b\b\b\b\b\b\b\b\b\b\b\b\b\b\b\b\b\b\b\b\b\r1792/3823 [=============>................] - ETA: 0s - loss: 1.2975 - acc: 0.6886"
     ]
    },
    {
     "name": "stdout",
     "output_type": "stream",
     "text": [
      "\b\b\b\b\b\b\b\b\b\b\b\b\b\b\b\b\b\b\b\b\b\b\b\b\b\b\b\b\b\b\b\b\b\b\b\b\b\b\b\b\b\b\b\b\b\b\b\b\b\b\b\b\b\b\b\b\b\b\b\b\b\b\b\b\b\b\b\b\b\b\b\b\b\b\b\b\b\b\b\b\b\r3744/3823 [============================>.] - ETA: 0s - loss: 1.1675 - acc: 0.7190"
     ]
    },
    {
     "name": "stdout",
     "output_type": "stream",
     "text": [
      "\b\b\b\b\b\b\b\b\b\b\b\b\b\b\b\b\b\b\b\b\b\b\b\b\b\b\b\b\b\b\b\b\b\b\b\b\b\b\b\b\b\b\b\b\b\b\b\b\b\b\b\b\b\b\b\b\b\b\b\b\b\b\b\b\b\b\b\b\b\b\b\b\b\b\b\b\b\b\b\b\b\r3823/3823 [==============================] - 0s 28us/step - loss: 1.1632 - acc: 0.7193\n"
     ]
    },
    {
     "name": "stdout",
     "output_type": "stream",
     "text": [
      "Epoch 3/20\n\r  32/3823 [..............................] - ETA: 0s - loss: 0.7593 - acc: 0.8438"
     ]
    },
    {
     "name": "stdout",
     "output_type": "stream",
     "text": [
      "\b\b\b\b\b\b\b\b\b\b\b\b\b\b\b\b\b\b\b\b\b\b\b\b\b\b\b\b\b\b\b\b\b\b\b\b\b\b\b\b\b\b\b\b\b\b\b\b\b\b\b\b\b\b\b\b\b\b\b\b\b\b\b\b\b\b\b\b\b\b\b\b\b\b\b\b\b\b\b\b\b\r1664/3823 [============>.................] - ETA: 0s - loss: 0.8162 - acc: 0.7939"
     ]
    },
    {
     "name": "stdout",
     "output_type": "stream",
     "text": [
      "\b\b\b\b\b\b\b\b\b\b\b\b\b\b\b\b\b\b\b\b\b\b\b\b\b\b\b\b\b\b\b\b\b\b\b\b\b\b\b\b\b\b\b\b\b\b\b\b\b\b\b\b\b\b\b\b\b\b\b\b\b\b\b\b\b\b\b\b\b\b\b\b\b\b\b\b\b\b\b\b\b\r3072/3823 [=======================>......] - ETA: 0s - loss: 0.7695 - acc: 0.7949"
     ]
    },
    {
     "name": "stdout",
     "output_type": "stream",
     "text": [
      "\b\b\b\b\b\b\b\b\b\b\b\b\b\b\b\b\b\b\b\b\b\b\b\b\b\b\b\b\b\b\b\b\b\b\b\b\b\b\b\b\b\b\b\b\b\b\b\b\b\b\b\b\b\b\b\b\b\b\b\b\b\b\b\b\b\b\b\b\b\b\b\b\b\b\b\b\b\b\b\b\b\r3823/3823 [==============================] - 0s 34us/step - loss: 0.7330 - acc: 0.8085\n"
     ]
    },
    {
     "name": "stdout",
     "output_type": "stream",
     "text": [
      "Epoch 4/20\n\r  32/3823 [..............................] - ETA: 0s - loss: 0.5394 - acc: 0.9375"
     ]
    },
    {
     "name": "stdout",
     "output_type": "stream",
     "text": [
      "\b\b\b\b\b\b\b\b\b\b\b\b\b\b\b\b\b\b\b\b\b\b\b\b\b\b\b\b\b\b\b\b\b\b\b\b\b\b\b\b\b\b\b\b\b\b\b\b\b\b\b\b\b\b\b\b\b\b\b\b\b\b\b\b\b\b\b\b\b\b\b\b\b\b\b\b\b\b\b\b\b\r1856/3823 [=============>................] - ETA: 0s - loss: 0.5312 - acc: 0.8906"
     ]
    },
    {
     "name": "stdout",
     "output_type": "stream",
     "text": [
      "\b\b\b\b\b\b\b\b\b\b\b\b\b\b\b\b\b\b\b\b\b\b\b\b\b\b\b\b\b\b\b\b\b\b\b\b\b\b\b\b\b\b\b\b\b\b\b\b\b\b\b\b\b\b\b\b\b\b\b\b\b\b\b\b\b\b\b\b\b\b\b\b\b\b\b\b\b\b\b\b\b\r3823/3823 [==============================] - 0s 27us/step - loss: 0.4840 - acc: 0.9061\n"
     ]
    },
    {
     "name": "stdout",
     "output_type": "stream",
     "text": [
      "Epoch 5/20\n\r  32/3823 [..............................] - ETA: 0s - loss: 0.4943 - acc: 0.8438"
     ]
    },
    {
     "name": "stdout",
     "output_type": "stream",
     "text": [
      "\b\b\b\b\b\b\b\b\b\b\b\b\b\b\b\b\b\b\b\b\b\b\b\b\b\b\b\b\b\b\b\b\b\b\b\b\b\b\b\b\b\b\b\b\b\b\b\b\b\b\b\b\b\b\b\b\b\b\b\b\b\b\b\b\b\b\b\b\b\b\b\b\b\b\b\b\b\b\b\b\b"
     ]
    },
    {
     "name": "stdout",
     "output_type": "stream",
     "text": [
      "\r1632/3823 [===========>..................] - ETA: 0s - loss: 0.3947 - acc: 0.9142"
     ]
    },
    {
     "name": "stdout",
     "output_type": "stream",
     "text": [
      "\b\b\b\b\b\b\b\b\b\b\b\b\b\b\b\b\b\b\b\b\b\b\b\b\b\b\b\b\b\b\b\b\b\b\b\b\b\b\b\b\b\b\b\b\b\b\b\b\b\b\b\b\b\b\b\b\b\b\b\b\b\b\b\b\b\b\b\b\b\b\b\b\b\b\b\b\b\b\b\b\b\r3424/3823 [=========================>....] - ETA: 0s - loss: 0.3503 - acc: 0.9235"
     ]
    },
    {
     "name": "stdout",
     "output_type": "stream",
     "text": [
      "\b\b\b\b\b\b\b\b\b\b\b\b\b\b\b\b\b\b\b\b\b\b\b\b\b\b\b\b\b\b\b\b\b\b\b\b\b\b\b\b\b\b\b\b\b\b\b\b\b\b\b\b\b\b\b\b\b\b\b\b\b\b\b\b\b\b\b\b\b\b\b\b\b\b\b\b\b\b\b\b\b\r3823/3823 [==============================] - 0s 30us/step - loss: 0.3469 - acc: 0.9255\n"
     ]
    },
    {
     "name": "stdout",
     "output_type": "stream",
     "text": [
      "Epoch 6/20\n\r  32/3823 [..............................] - ETA: 0s - loss: 0.2118 - acc: 1.0000"
     ]
    },
    {
     "name": "stdout",
     "output_type": "stream",
     "text": [
      "\b\b\b\b\b\b\b\b\b\b\b\b\b\b\b\b\b\b\b\b\b\b\b\b\b\b\b\b\b\b\b\b\b\b\b\b\b\b\b\b\b\b\b\b\b\b\b\b\b\b\b\b\b\b\b\b\b\b\b\b\b\b\b\b\b\b\b\b\b\b\b\b\b\b\b\b\b\b\b\b\b\r1920/3823 [==============>...............] - ETA: 0s - loss: 0.2829 - acc: 0.9401"
     ]
    },
    {
     "name": "stdout",
     "output_type": "stream",
     "text": [
      "\b\b\b\b\b\b\b\b\b\b\b\b\b\b\b\b\b\b\b\b\b\b\b\b\b\b\b\b\b\b\b\b\b\b\b\b\b\b\b\b\b\b\b\b\b\b\b\b\b\b\b\b\b\b\b\b\b\b\b\b\b\b\b\b\b\b\b\b\b\b\b\b\b\b\b\b\b\b\b\b\b\r3823/3823 [==============================] - 0s 27us/step - loss: 0.2729 - acc: 0.9367\n"
     ]
    },
    {
     "name": "stdout",
     "output_type": "stream",
     "text": [
      "Epoch 7/20\n\r  32/3823 [..............................] - ETA: 0s - loss: 0.2632 - acc: 0.9375"
     ]
    },
    {
     "name": "stdout",
     "output_type": "stream",
     "text": [
      "\b\b\b\b\b\b\b\b\b\b\b\b\b\b\b\b\b\b\b\b\b\b\b\b\b\b\b\b\b\b\b\b\b\b\b\b\b\b\b\b\b\b\b\b\b\b\b\b\b\b\b\b\b\b\b\b\b\b\b\b\b\b\b\b\b\b\b\b\b\b\b\b\b\b\b\b\b\b\b\b\b\r1664/3823 [============>.................] - ETA: 0s - loss: 0.2451 - acc: 0.9387"
     ]
    },
    {
     "name": "stdout",
     "output_type": "stream",
     "text": [
      "\b\b\b\b\b\b\b\b\b\b\b\b\b\b\b\b\b\b\b\b\b\b\b\b\b\b\b\b\b\b\b\b\b\b\b\b\b\b\b\b\b\b\b\b\b\b\b\b\b\b\b\b\b\b\b\b\b\b\b\b\b\b\b\b\b\b\b\b\b\b\b\b\b\b\b\b\b\b\b\b\b\r3648/3823 [===========================>..] - ETA: 0s - loss: 0.2309 - acc: 0.9427"
     ]
    },
    {
     "name": "stdout",
     "output_type": "stream",
     "text": [
      "\b\b\b\b\b\b\b\b\b\b\b\b\b\b\b\b\b\b\b\b\b\b\b\b\b\b\b\b\b\b\b\b\b\b\b\b\b\b\b\b\b\b\b\b\b\b\b\b\b\b\b\b\b\b\b\b\b\b\b\b\b\b\b\b\b\b\b\b\b\b\b\b\b\b\b\b\b\b\b\b\b\r3823/3823 [==============================] - 0s 29us/step - loss: 0.2292 - acc: 0.9430\n"
     ]
    },
    {
     "name": "stdout",
     "output_type": "stream",
     "text": [
      "Epoch 8/20\n\r  32/3823 [..............................] - ETA: 0s - loss: 0.2007 - acc: 1.0000"
     ]
    },
    {
     "name": "stdout",
     "output_type": "stream",
     "text": [
      "\b\b\b\b\b\b\b\b\b\b\b\b\b\b\b\b\b\b\b\b\b\b\b\b\b\b\b\b\b\b\b\b\b\b\b\b\b\b\b\b\b\b\b\b\b\b\b\b\b\b\b\b\b\b\b\b\b\b\b\b\b\b\b\b\b\b\b\b\b\b\b\b\b\b\b\b\b\b\b\b\b\r1792/3823 [=============>................] - ETA: 0s - loss: 0.2062 - acc: 0.9498"
     ]
    },
    {
     "name": "stdout",
     "output_type": "stream",
     "text": [
      "\b\b\b\b\b\b\b\b\b\b\b\b\b\b\b\b\b\b\b\b\b\b\b\b\b\b\b\b\b\b\b\b\b\b\b\b\b\b\b\b\b\b\b\b\b\b\b\b\b\b\b\b\b\b\b\b\b\b\b\b\b\b\b\b\b\b\b\b\b\b\b\b\b\b\b\b\b\b\b\b\b\r3584/3823 [===========================>..] - ETA: 0s - loss: 0.1963 - acc: 0.9512"
     ]
    },
    {
     "name": "stdout",
     "output_type": "stream",
     "text": [
      "\b\b\b\b\b\b\b\b\b\b\b\b\b\b\b\b\b\b\b\b\b\b\b\b\b\b\b\b\b\b\b\b\b\b\b\b\b\b\b\b\b\b\b\b\b\b\b\b\b\b\b\b\b\b\b\b\b\b\b\b\b\b\b\b\b\b\b\b\b\b\b\b\b\b\b\b\b\b\b\b\b\r3823/3823 [==============================] - 0s 29us/step - loss: 0.1993 - acc: 0.9490\n"
     ]
    },
    {
     "name": "stdout",
     "output_type": "stream",
     "text": [
      "Epoch 9/20\n\r  32/3823 [..............................] - ETA: 0s - loss: 0.2738 - acc: 0.8750"
     ]
    },
    {
     "name": "stdout",
     "output_type": "stream",
     "text": [
      "\b\b\b\b\b\b\b\b\b\b\b\b\b\b\b\b\b\b\b\b\b\b\b\b\b\b\b\b\b\b\b\b\b\b\b\b\b\b\b\b\b\b\b\b\b\b\b\b\b\b\b\b\b\b\b\b\b\b\b\b\b\b\b\b\b\b\b\b\b\b\b\b\b\b\b\b\b\b\b\b\b\r1792/3823 [=============>................] - ETA: 0s - loss: 0.1882 - acc: 0.9492"
     ]
    },
    {
     "name": "stdout",
     "output_type": "stream",
     "text": [
      "\b\b\b\b\b\b\b\b\b\b\b\b\b\b\b\b\b\b\b\b\b\b\b\b\b\b\b\b\b\b\b\b\b\b\b\b\b\b\b\b\b\b\b\b\b\b\b\b\b\b\b\b\b\b\b\b\b\b\b\b\b\b\b\b\b\b\b\b\b\b\b\b\b\b\b\b\b\b\b\b\b\r3712/3823 [============================>.] - ETA: 0s - loss: 0.1788 - acc: 0.9531"
     ]
    },
    {
     "name": "stdout",
     "output_type": "stream",
     "text": [
      "\b\b\b\b\b\b\b\b\b\b\b\b\b\b\b\b\b\b\b\b\b\b\b\b\b\b\b\b\b\b\b\b\b\b\b\b\b\b\b\b\b\b\b\b\b\b\b\b\b\b\b\b\b\b\b\b\b\b\b\b\b\b\b\b\b\b\b\b\b\b\b\b\b\b\b\b\b\b\b\b\b\r3823/3823 [==============================] - 0s 28us/step - loss: 0.1775 - acc: 0.9537\n"
     ]
    },
    {
     "name": "stdout",
     "output_type": "stream",
     "text": [
      "Epoch 10/20\n\r  32/3823 [..............................] - ETA: 0s - loss: 0.0602 - acc: 1.0000"
     ]
    },
    {
     "name": "stdout",
     "output_type": "stream",
     "text": [
      "\b\b\b\b\b\b\b\b\b\b\b\b\b\b\b\b\b\b\b\b\b\b\b\b\b\b\b\b\b\b\b\b\b\b\b\b\b\b\b\b\b\b\b\b\b\b\b\b\b\b\b\b\b\b\b\b\b\b\b\b\b\b\b\b\b\b\b\b\b\b\b\b\b\b\b\b\b\b\b\b\b\r1632/3823 [===========>..................] - ETA: 0s - loss: 0.1658 - acc: 0.9565"
     ]
    },
    {
     "name": "stdout",
     "output_type": "stream",
     "text": [
      "\b\b\b\b\b\b\b\b\b\b\b\b\b\b\b\b\b\b\b\b\b\b\b\b\b\b\b\b\b\b\b\b\b\b\b\b\b\b\b\b\b\b\b\b\b\b\b\b\b\b\b\b\b\b\b\b\b\b\b\b\b\b\b\b\b\b\b\b\b\b\b\b\b\b\b\b\b\b\b\b\b\r3520/3823 [==========================>...] - ETA: 0s - loss: 0.1598 - acc: 0.9568"
     ]
    },
    {
     "name": "stdout",
     "output_type": "stream",
     "text": [
      "\b\b\b\b\b\b\b\b\b\b\b\b\b\b\b\b\b\b\b\b\b\b\b\b\b\b\b\b\b\b\b\b\b\b\b\b\b\b\b\b\b\b\b\b\b\b\b\b\b\b\b\b\b\b\b\b\b\b\b\b\b\b\b\b\b\b\b\b\b\b\b\b\b\b\b\b\b\b\b\b\b\r3823/3823 [==============================] - 0s 30us/step - loss: 0.1607 - acc: 0.9574\n"
     ]
    },
    {
     "name": "stdout",
     "output_type": "stream",
     "text": [
      "Epoch 11/20\n\r  32/3823 [..............................] - ETA: 0s - loss: 0.0730 - acc: 1.0000"
     ]
    },
    {
     "name": "stdout",
     "output_type": "stream",
     "text": [
      "\b\b\b\b\b\b\b\b\b\b\b\b\b\b\b\b\b\b\b\b\b\b\b\b\b\b\b\b\b\b\b\b\b\b\b\b\b\b\b\b\b\b\b\b\b\b\b\b\b\b\b\b\b\b\b\b\b\b\b\b\b\b\b\b\b\b\b\b\b\b\b\b\b\b\b\b\b\b\b\b\b\r1856/3823 [=============>................] - ETA: 0s - loss: 0.1400 - acc: 0.9655"
     ]
    },
    {
     "name": "stdout",
     "output_type": "stream",
     "text": [
      "\b\b\b\b\b\b\b\b\b\b\b\b\b\b\b\b\b\b\b\b\b\b\b\b\b\b\b\b\b\b\b\b\b\b\b\b\b\b\b\b\b\b\b\b\b\b\b\b\b\b\b\b\b\b\b\b\b\b\b\b\b\b\b\b\b\b\b\b\b\b\b\b\b\b\b\b\b\b\b\b\b\r3744/3823 [============================>.] - ETA: 0s - loss: 0.1481 - acc: 0.9591"
     ]
    },
    {
     "name": "stdout",
     "output_type": "stream",
     "text": [
      "\b\b\b\b\b\b\b\b\b\b\b\b\b\b\b\b\b\b\b\b\b\b\b\b\b\b\b\b\b\b\b\b\b\b\b\b\b\b\b\b\b\b\b\b\b\b\b\b\b\b\b\b\b\b\b\b\b\b\b\b\b\b\b\b\b\b\b\b\b\b\b\b\b\b\b\b\b\b\b\b\b\r3823/3823 [==============================] - 0s 28us/step - loss: 0.1476 - acc: 0.9597\n"
     ]
    },
    {
     "name": "stdout",
     "output_type": "stream",
     "text": [
      "Epoch 12/20\n\r  32/3823 [..............................] - ETA: 0s - loss: 0.0747 - acc: 1.0000"
     ]
    },
    {
     "name": "stdout",
     "output_type": "stream",
     "text": [
      "\b\b\b\b\b\b\b\b\b\b\b\b\b\b\b\b\b\b\b\b\b\b\b\b\b\b\b\b\b\b\b\b\b\b\b\b\b\b\b\b\b\b\b\b\b\b\b\b\b\b\b\b\b\b\b\b\b\b\b\b\b\b\b\b\b\b\b\b\b\b\b\b\b\b\b\b\b\b\b\b\b\r1728/3823 [============>.................] - ETA: 0s - loss: 0.1284 - acc: 0.9659"
     ]
    },
    {
     "name": "stdout",
     "output_type": "stream",
     "text": [
      "\b\b\b\b\b\b\b\b\b\b\b\b\b\b\b\b\b\b\b\b\b\b\b\b\b\b\b\b\b\b\b\b\b\b\b\b\b\b\b\b\b\b\b\b\b\b\b\b\b\b\b\b\b\b\b\b\b\b\b\b\b\b\b\b\b\b\b\b\b\b\b\b\b\b\b\b\b\b\b\b\b\r3744/3823 [============================>.] - ETA: 0s - loss: 0.1373 - acc: 0.9615"
     ]
    },
    {
     "name": "stdout",
     "output_type": "stream",
     "text": [
      "\b\b\b\b\b\b\b\b\b\b\b\b\b\b\b\b\b\b\b\b\b\b\b\b\b\b\b\b\b\b\b\b\b\b\b\b\b\b\b\b\b\b\b\b\b\b\b\b\b\b\b\b\b\b\b\b\b\b\b\b\b\b\b\b\b\b\b\b\b\b\b\b\b\b\b\b\b\b\b\b\b\r3823/3823 [==============================] - 0s 28us/step - loss: 0.1370 - acc: 0.9615\n"
     ]
    },
    {
     "name": "stdout",
     "output_type": "stream",
     "text": [
      "Epoch 13/20\n\r  32/3823 [..............................] - ETA: 0s - loss: 0.0852 - acc: 1.0000"
     ]
    },
    {
     "name": "stdout",
     "output_type": "stream",
     "text": [
      "\b\b\b\b\b\b\b\b\b\b\b\b\b\b\b\b\b\b\b\b\b\b\b\b\b\b\b\b\b\b\b\b\b\b\b\b\b\b\b\b\b\b\b\b\b\b\b\b\b\b\b\b\b\b\b\b\b\b\b\b\b\b\b\b\b\b\b\b\b\b\b\b\b\b\b\b\b\b\b\b\b\r1824/3823 [=============>................] - ETA: 0s - loss: 0.1171 - acc: 0.9666"
     ]
    },
    {
     "name": "stdout",
     "output_type": "stream",
     "text": [
      "\b\b\b\b\b\b\b\b\b\b\b\b\b\b\b\b\b\b\b\b\b\b\b\b\b\b\b\b\b\b\b\b\b\b\b\b\b\b\b\b\b\b\b\b\b\b\b\b\b\b\b\b\b\b\b\b\b\b\b\b\b\b\b\b\b\b\b\b\b\b\b\b\b\b\b\b\b\b\b\b\b\r3360/3823 [=========================>....] - ETA: 0s - loss: 0.1247 - acc: 0.9652"
     ]
    },
    {
     "name": "stdout",
     "output_type": "stream",
     "text": [
      "\b\b\b\b\b\b\b\b\b\b\b\b\b\b\b\b\b\b\b\b\b\b\b\b\b\b\b\b\b\b\b\b\b\b\b\b\b\b\b\b\b\b\b\b\b\b\b\b\b\b\b\b\b\b\b\b\b\b\b\b\b\b\b\b\b\b\b\b\b\b\b\b\b\b\b\b\b\b\b\b\b\r3823/3823 [==============================] - 0s 31us/step - loss: 0.1276 - acc: 0.9642\n"
     ]
    },
    {
     "name": "stdout",
     "output_type": "stream",
     "text": [
      "Epoch 14/20\n\r  32/3823 [..............................] - ETA: 0s - loss: 0.0542 - acc: 1.0000"
     ]
    },
    {
     "name": "stdout",
     "output_type": "stream",
     "text": [
      "\b\b\b\b\b\b\b\b\b\b\b\b\b\b\b\b\b\b\b\b\b\b\b\b\b\b\b\b\b\b\b\b\b\b\b\b\b\b\b\b\b\b\b\b\b\b\b\b\b\b\b\b\b\b\b\b\b\b\b\b\b\b\b\b\b\b\b\b\b\b\b\b\b\b\b\b\b\b\b\b\b\r1664/3823 [============>.................] - ETA: 0s - loss: 0.1212 - acc: 0.9633"
     ]
    },
    {
     "name": "stdout",
     "output_type": "stream",
     "text": [
      "\b\b\b\b\b\b\b\b\b\b\b\b\b\b\b\b\b\b\b\b\b\b\b\b\b\b\b\b\b\b\b\b\b\b\b\b\b\b\b\b\b\b\b\b\b\b\b\b\b\b\b\b\b\b\b\b\b\b\b\b\b\b\b\b\b\b\b\b\b\b\b\b\b\b\b\b\b\b\b\b\b\r3328/3823 [=========================>....] - ETA: 0s - loss: 0.1219 - acc: 0.9648"
     ]
    },
    {
     "name": "stdout",
     "output_type": "stream",
     "text": [
      "\b\b\b\b\b\b\b\b\b\b\b\b\b\b\b\b\b\b\b\b\b\b\b\b\b\b\b\b\b\b\b\b\b\b\b\b\b\b\b\b\b\b\b\b\b\b\b\b\b\b\b\b\b\b\b\b\b\b\b\b\b\b\b\b\b\b\b\b\b\b\b\b\b\b\b\b\b\b\b\b\b\r3823/3823 [==============================] - 0s 32us/step - loss: 0.1201 - acc: 0.9655\n"
     ]
    },
    {
     "name": "stdout",
     "output_type": "stream",
     "text": [
      "Epoch 15/20\n\r  32/3823 [..............................] - ETA: 0s - loss: 0.1223 - acc: 0.9375"
     ]
    },
    {
     "name": "stdout",
     "output_type": "stream",
     "text": [
      "\b\b\b\b\b\b\b\b\b\b\b\b\b\b\b\b\b\b\b\b\b\b\b\b\b\b\b\b\b\b\b\b\b\b\b\b\b\b\b\b\b\b\b\b\b\b\b\b\b\b\b\b\b\b\b\b\b\b\b\b\b\b\b\b\b\b\b\b\b\b\b\b\b\b\b\b\b\b\b\b\b\r1696/3823 [============>.................] - ETA: 0s - loss: 0.0974 - acc: 0.9746"
     ]
    },
    {
     "name": "stdout",
     "output_type": "stream",
     "text": [
      "\b\b\b\b\b\b\b\b\b\b\b\b\b\b\b\b\b\b\b\b\b\b\b\b\b\b\b\b\b\b\b\b\b\b\b\b\b\b\b\b\b\b\b\b\b\b\b\b\b\b\b\b\b\b\b\b\b\b\b\b\b\b\b\b\b\b\b\b\b\b\b\b\b\b\b\b\b\b\b\b\b\r3584/3823 [===========================>..] - ETA: 0s - loss: 0.1140 - acc: 0.9668"
     ]
    },
    {
     "name": "stdout",
     "output_type": "stream",
     "text": [
      "\b\b\b\b\b\b\b\b\b\b\b\b\b\b\b\b\b\b\b\b\b\b\b\b\b\b\b\b\b\b\b\b\b\b\b\b\b\b\b\b\b\b\b\b\b\b\b\b\b\b\b\b\b\b\b\b\b\b\b\b\b\b\b\b\b\b\b\b\b\b\b\b\b\b\b\b\b\b\b\b\b\r3823/3823 [==============================] - 0s 29us/step - loss: 0.1129 - acc: 0.9668\n"
     ]
    },
    {
     "name": "stdout",
     "output_type": "stream",
     "text": [
      "Epoch 16/20\n\r  32/3823 [..............................] - ETA: 0s - loss: 0.0996 - acc: 0.9688"
     ]
    },
    {
     "name": "stdout",
     "output_type": "stream",
     "text": [
      "\b\b\b\b\b\b\b\b\b\b\b\b\b\b\b\b\b\b\b\b\b\b\b\b\b\b\b\b\b\b\b\b\b\b\b\b\b\b\b\b\b\b\b\b\b\b\b\b\b\b\b\b\b\b\b\b\b\b\b\b\b\b\b\b\b\b\b\b\b\b\b\b\b\b\b\b\b\b\b\b\b\r1824/3823 [=============>................] - ETA: 0s - loss: 0.1058 - acc: 0.9704"
     ]
    },
    {
     "name": "stdout",
     "output_type": "stream",
     "text": [
      "\b\b\b\b\b\b\b\b\b\b\b\b\b\b\b\b\b\b\b\b\b\b\b\b\b\b\b\b\b\b\b\b\b\b\b\b\b\b\b\b\b\b\b\b\b\b\b\b\b\b\b\b\b\b\b\b\b\b\b\b\b\b\b\b\b\b\b\b\b\b\b\b\b\b\b\b\b\b\b\b\b\r3744/3823 [============================>.] - ETA: 0s - loss: 0.1078 - acc: 0.9674"
     ]
    },
    {
     "name": "stdout",
     "output_type": "stream",
     "text": [
      "\b\b\b\b\b\b\b\b\b\b\b\b\b\b\b\b\b\b\b\b\b\b\b\b\b\b\b\b\b\b\b\b\b\b\b\b\b\b\b\b\b\b\b\b\b\b\b\b\b\b\b\b\b\b\b\b\b\b\b\b\b\b\b\b\b\b\b\b\b\b\b\b\b\b\b\b\b\b\b\b\b\r3823/3823 [==============================] - 0s 28us/step - loss: 0.1072 - acc: 0.9676\n"
     ]
    },
    {
     "name": "stdout",
     "output_type": "stream",
     "text": [
      "Epoch 17/20\n\r  32/3823 [..............................] - ETA: 0s - loss: 0.0259 - acc: 1.0000"
     ]
    },
    {
     "name": "stdout",
     "output_type": "stream",
     "text": [
      "\b\b\b\b\b\b\b\b\b\b\b\b\b\b\b\b\b\b\b\b\b\b\b\b\b\b\b\b\b\b\b\b\b\b\b\b\b\b\b\b\b\b\b\b\b\b\b\b\b\b\b\b\b\b\b\b\b\b\b\b\b\b\b\b\b\b\b\b\b\b\b\b\b\b\b\b\b\b\b\b\b\r1696/3823 [============>.................] - ETA: 0s - loss: 0.1111 - acc: 0.9682"
     ]
    },
    {
     "name": "stdout",
     "output_type": "stream",
     "text": [
      "\b\b\b\b\b\b\b\b\b\b\b\b\b\b\b\b\b\b\b\b\b\b\b\b\b\b\b\b\b\b\b\b\b\b\b\b\b\b\b\b\b\b\b\b\b\b\b\b\b\b\b\b\b\b\b\b\b\b\b\b\b\b\b\b\b\b\b\b\b\b\b\b\b\b\b\b\b\b\b\b\b\r3296/3823 [========================>.....] - ETA: 0s - loss: 0.1021 - acc: 0.9703"
     ]
    },
    {
     "name": "stdout",
     "output_type": "stream",
     "text": [
      "\b\b\b\b\b\b\b\b\b\b\b\b\b\b\b\b\b\b\b\b\b\b\b\b\b\b\b\b\b\b\b\b\b\b\b\b\b\b\b\b\b\b\b\b\b\b\b\b\b\b\b\b\b\b\b\b\b\b\b\b\b\b\b\b\b\b\b\b\b\b\b\b\b\b\b\b\b\b\b\b\b\r3823/3823 [==============================] - 0s 31us/step - loss: 0.1016 - acc: 0.9697\n"
     ]
    },
    {
     "name": "stdout",
     "output_type": "stream",
     "text": [
      "Epoch 18/20\n\r  32/3823 [..............................] - ETA: 0s - loss: 0.1163 - acc: 0.9688"
     ]
    },
    {
     "name": "stdout",
     "output_type": "stream",
     "text": [
      "\b\b\b\b\b\b\b\b\b\b\b\b\b\b\b\b\b\b\b\b\b\b\b\b\b\b\b\b\b\b\b\b\b\b\b\b\b\b\b\b\b\b\b\b\b\b\b\b\b\b\b\b\b\b\b\b\b\b\b\b\b\b\b\b\b\b\b\b\b\b\b\b\b\b\b\b\b\b\b\b\b\r1632/3823 [===========>..................] - ETA: 0s - loss: 0.1025 - acc: 0.9675"
     ]
    },
    {
     "name": "stdout",
     "output_type": "stream",
     "text": [
      "\b\b\b\b\b\b\b\b\b\b\b\b\b\b\b\b\b\b\b\b\b\b\b\b\b\b\b\b\b\b\b\b\b\b\b\b\b\b\b\b\b\b\b\b\b\b\b\b\b\b\b\b\b\b\b\b\b\b\b\b\b\b\b\b\b\b\b\b\b\b\b\b\b\b\b\b\b\b\b\b\b\r3648/3823 [===========================>..] - ETA: 0s - loss: 0.0990 - acc: 0.9682"
     ]
    },
    {
     "name": "stdout",
     "output_type": "stream",
     "text": [
      "\b\b\b\b\b\b\b\b\b\b\b\b\b\b\b\b\b\b\b\b\b\b\b\b\b\b\b\b\b\b\b\b\b\b\b\b\b\b\b\b\b\b\b\b\b\b\b\b\b\b\b\b\b\b\b\b\b\b\b\b\b\b\b\b\b\b\b\b\b\b\b\b\b\b\b\b\b\b\b\b\b\r3823/3823 [==============================] - 0s 29us/step - loss: 0.0969 - acc: 0.9691\n"
     ]
    },
    {
     "name": "stdout",
     "output_type": "stream",
     "text": [
      "Epoch 19/20\n\r  32/3823 [..............................] - ETA: 0s - loss: 0.1119 - acc: 0.9688"
     ]
    },
    {
     "name": "stdout",
     "output_type": "stream",
     "text": [
      "\b\b\b\b\b\b\b\b\b\b\b\b\b\b\b\b\b\b\b\b\b\b\b\b\b\b\b\b\b\b\b\b\b\b\b\b\b\b\b\b\b\b\b\b\b\b\b\b\b\b\b\b\b\b\b\b\b\b\b\b\b\b\b\b\b\b\b\b\b\b\b\b\b\b\b\b\b\b\b\b\b\r1696/3823 [============>.................] - ETA: 0s - loss: 0.0859 - acc: 0.9741"
     ]
    },
    {
     "name": "stdout",
     "output_type": "stream",
     "text": [
      "\b\b\b\b\b\b\b\b\b\b\b\b\b\b\b\b\b\b\b\b\b\b\b\b\b\b\b\b\b\b\b\b\b\b\b\b\b\b\b\b\b\b\b\b\b\b\b\b\b\b\b\b\b\b\b\b\b\b\b\b\b\b\b\b\b\b\b\b\b\b\b\b\b\b\b\b\b\b\b\b\b\r3584/3823 [===========================>..] - ETA: 0s - loss: 0.0935 - acc: 0.9715"
     ]
    },
    {
     "name": "stdout",
     "output_type": "stream",
     "text": [
      "\b\b\b\b\b\b\b\b\b\b\b\b\b\b\b\b\b\b\b\b\b\b\b\b\b\b\b\b\b\b\b\b\b\b\b\b\b\b\b\b\b\b\b\b\b\b\b\b\b\b\b\b\b\b\b\b\b\b\b\b\b\b\b\b\b\b\b\b\b\b\b\b\b\b\b\b\b\b\b\b\b\r3823/3823 [==============================] - 0s 29us/step - loss: 0.0928 - acc: 0.9723\n"
     ]
    },
    {
     "name": "stdout",
     "output_type": "stream",
     "text": [
      "Epoch 20/20\n\r  32/3823 [..............................] - ETA: 0s - loss: 0.0958 - acc: 0.9688"
     ]
    },
    {
     "name": "stdout",
     "output_type": "stream",
     "text": [
      "\b\b\b\b\b\b\b\b\b\b\b\b\b\b\b\b\b\b\b\b\b\b\b\b\b\b\b\b\b\b\b\b\b\b\b\b\b\b\b\b\b\b\b\b\b\b\b\b\b\b\b\b\b\b\b\b\b\b\b\b\b\b\b\b\b\b\b\b\b\b\b\b\b\b\b\b\b\b\b\b\b\r1440/3823 [==========>...................] - ETA: 0s - loss: 0.1057 - acc: 0.9688"
     ]
    },
    {
     "name": "stdout",
     "output_type": "stream",
     "text": [
      "\b\b\b\b\b\b\b\b\b\b\b\b\b\b\b\b\b\b\b\b\b\b\b\b\b\b\b\b\b\b\b\b\b\b\b\b\b\b\b\b\b\b\b\b\b\b\b\b\b\b\b\b\b\b\b\b\b\b\b\b\b\b\b\b\b\b\b\b\b\b\b\b\b\b\b\b\b\b\b\b\b\r3008/3823 [======================>.......] - ETA: 0s - loss: 0.0923 - acc: 0.9707"
     ]
    },
    {
     "name": "stdout",
     "output_type": "stream",
     "text": [
      "\b\b\b\b\b\b\b\b\b\b\b\b\b\b\b\b\b\b\b\b\b\b\b\b\b\b\b\b\b\b\b\b\b\b\b\b\b\b\b\b\b\b\b\b\b\b\b\b\b\b\b\b\b\b\b\b\b\b\b\b\b\b\b\b\b\b\b\b\b\b\b\b\b\b\b\b\b\b\b\b\b\r3823/3823 [==============================] - 0s 35us/step - loss: 0.0884 - acc: 0.9731\n"
     ]
    },
    {
     "data": {
      "text/plain": [
       "<keras.callbacks.History at 0x1f5fed02710>"
      ]
     },
     "execution_count": 8,
     "metadata": {},
     "output_type": "execute_result"
    }
   ],
   "source": [
    "# Train the model for a fixed amount of epochs\n",
    "model.fit(x.as_matrix(), y,\n",
    "          epochs=20)"
   ]
  },
  {
   "cell_type": "code",
   "execution_count": 9,
   "metadata": {},
   "outputs": [
    {
     "name": "stdout",
     "output_type": "stream",
     "text": [
      "\r  32/1797 [..............................] - ETA: 1s"
     ]
    },
    {
     "name": "stdout",
     "output_type": "stream",
     "text": [
      "\b\b\b\b\b\b\b\b\b\b\b\b\b\b\b\b\b\b\b\b\b\b\b\b\b\b\b\b\b\b\b\b\b\b\b\b\b\b\b\b\b\b\b\b\b\b\b\b\b\b\b\b\r1797/1797 [==============================] - 0s 29us/step\n"
     ]
    },
    {
     "name": "stdout",
     "output_type": "stream",
     "text": [
      "Loss: 0.19710345059875803 Accuracy 0.9460211463550362\n"
     ]
    },
    {
     "name": "stderr",
     "output_type": "stream",
     "text": [
      "C:\\Users\\Cameron\\Anaconda3\\lib\\site-packages\\ipykernel_launcher.py:2: FutureWarning: Method .as_matrix will be removed in a future version. Use .values instead.\n  \n"
     ]
    }
   ],
   "source": [
    "# Check the accuracy of the model on the test set\n",
    "score = model.evaluate(test.as_matrix(), test_label)\n",
    "print('Loss: {0} Accuracy {1}'.format(score[0], score[1]))"
   ]
  },
  {
   "cell_type": "code",
   "execution_count": 10,
   "metadata": {
    "collapsed": true
   },
   "outputs": [
    {
     "name": "stdout",
     "output_type": "stream",
     "text": [
      "[array([[-2.56538391e-02, -1.54560864e-01,  1.10812217e-01,\n        -2.09208727e-01, -1.40573278e-01, -8.46162438e-03,\n         2.21310854e-02, -2.16126740e-02,  1.84834629e-01,\n        -9.34949219e-02],\n       [ 1.08368628e-01, -2.08000764e-02, -3.35768461e-01,\n        -2.80364603e-02, -6.69691563e-02,  2.23001271e-01,\n         4.96942997e-02,  3.48526053e-02, -3.63864675e-02,\n         5.82708083e-02],\n       [-3.94101590e-01,  1.53052256e-01, -1.73136860e-01,\n        -7.16314986e-02,  1.55788690e-01, -6.78202510e-02,\n        -2.09877312e-01,  4.83261943e-02,  4.25412893e-01,\n         9.63049158e-02],\n       [ 3.22215796e-01,  1.95600018e-01, -2.85147280e-01,\n         6.10960536e-02,  3.96190137e-02,  1.98298112e-01,\n         2.23368153e-01, -9.34710056e-02,  3.81301828e-02,\n         8.20109323e-02],\n       [ 2.72901766e-02,  3.73377377e-04, -2.59354323e-01,\n        -2.52782345e-01, -4.42051739e-01,  2.60086149e-01,\n        -4.91266012e-01,  2.44267404e-01,  4.88714606e-01,\n         4.62507188e-01],\n       [ 1.32916141e-02,  4.38266486e-01, -4.15379584e-01,\n        -1.10381730e-01, -2.07374975e-01, -2.74453461e-01,\n        -2.43829399e-01,  1.39092356e-01,  4.34581369e-01,\n         1.28311291e-01],\n       [-4.13615048e-01, -2.06409052e-01, -5.19980431e-01,\n        -3.38939168e-02, -3.13443065e-01,  3.91177647e-02,\n         8.05552825e-02,  3.42725098e-01,  4.72661167e-01,\n         4.79726456e-02],\n       [-1.83462262e-01, -5.63808858e-01,  1.81093380e-01,\n        -2.92211503e-01,  9.08702612e-02, -4.61658686e-01,\n        -6.23813331e-01, -6.71975389e-02,  9.21274275e-02,\n         7.76489601e-02],\n       [ 1.01236247e-01,  4.39100377e-02, -1.26531288e-01,\n        -7.01628625e-01, -5.29003143e-01, -3.49448949e-01,\n        -3.73134241e-02,  6.15602732e-02, -3.26655284e-02,\n         3.22676376e-02],\n       [-3.87806185e-02,  1.45122916e-01, -5.58482826e-01,\n         7.24203736e-02, -1.69500619e-01,  1.99503347e-01,\n        -5.09979427e-02,  1.07235096e-01,  1.22335434e-01,\n         2.73154050e-01],\n       [ 5.41701615e-01,  2.80061692e-01, -3.78969729e-01,\n         1.11135848e-01, -5.77116907e-01,  6.26487136e-01,\n        -4.50976491e-01, -1.45327169e-02,  3.01490635e-01,\n         3.51110883e-02],\n       [-4.48161095e-01,  1.38240948e-01, -2.07173303e-02,\n         4.96101603e-02, -2.40599260e-01, -1.71880856e-01,\n        -8.03548694e-02,  1.08545199e-01,  9.75153074e-02,\n         4.37178239e-02],\n       [-2.25811496e-01, -2.34355852e-01, -5.35113394e-01,\n         4.53445554e-01, -2.33021468e-01,  1.25902340e-01,\n         4.34973300e-01,  4.01313752e-01, -3.49068195e-02,\n         4.32351172e-01],\n       [ 2.82894164e-01, -1.06775664e-01, -5.38797200e-01,\n         1.88477829e-01, -2.40894213e-01,  9.46952775e-02,\n         8.61935392e-02,  7.42466673e-02, -1.06699970e-02,\n         2.74307787e-01],\n       [-8.85299817e-02,  4.62506153e-02, -4.10339236e-02,\n         6.48007467e-02,  1.74845010e-02, -6.31520450e-02,\n        -4.51193422e-01, -4.43204120e-02, -1.07827075e-01,\n         6.90009966e-02],\n       [ 3.86310667e-02, -5.20493388e-01,  7.05252141e-02,\n        -1.57618120e-01, -1.88523412e-01, -3.38754445e-01,\n        -5.59210539e-01, -1.05151499e-03,  8.08230639e-02,\n        -1.30614918e-02],\n       [-3.36287282e-02,  2.05908477e-01, -5.75386167e-01,\n         2.71868967e-02, -2.03591287e-02, -1.56023636e-01,\n         6.49409443e-02,  1.43977851e-01, -7.52093673e-01,\n        -4.95665312e-01],\n       [ 2.67257839e-01,  1.60003945e-01, -3.39762598e-01,\n        -1.80415288e-01, -2.09860802e-01, -2.67533183e-01,\n        -8.53369199e-03,  9.53347608e-02, -2.94404089e-01,\n        -3.18794847e-01],\n       [ 3.04815203e-01,  4.16627854e-01,  2.88177103e-01,\n         2.43878305e-01, -3.40959042e-01, -6.46923125e-01,\n         2.03722045e-01, -2.26981968e-01,  2.80320495e-01,\n        -3.21501613e-01],\n       [ 3.30621637e-02, -5.40049434e-01, -1.93456918e-01,\n        -3.49973947e-01,  2.39236534e-01, -7.53540635e-01,\n         4.96476471e-01, -9.09946710e-02,  2.95704514e-01,\n        -9.51329708e-01],\n       [ 7.33202621e-02, -5.41694164e-01, -5.04501045e-01,\n        -6.46499768e-02,  4.03119445e-01,  1.58970356e-01,\n         5.49809575e-01,  2.44216785e-01, -1.77021280e-01,\n         6.90784454e-02],\n       [ 8.20905328e-01, -1.80166379e-01, -2.65526891e-01,\n         9.32172894e-01, -1.60752207e-01,  2.17378996e-02,\n         2.41364822e-01,  9.60039049e-02, -2.97399074e-01,\n         1.65485814e-01],\n       [ 3.74884337e-01, -1.15372473e-02,  1.30371168e-01,\n         3.52117449e-01,  1.67018384e-01, -7.82951936e-02,\n         7.32215941e-02,  6.16919175e-02, -3.58269423e-01,\n         2.52059549e-01],\n       [ 1.85877383e-01, -3.98551784e-02, -1.60634622e-01,\n         1.54938027e-01, -1.62326340e-02, -4.15667862e-01,\n         9.12902951e-02,  1.32840872e-01,  4.15421538e-02,\n         1.24609172e-01],\n       [ 5.01267128e-02,  7.53008574e-02, -6.94818199e-01,\n        -1.47550359e-01, -4.90321815e-01, -5.38901806e-01,\n         3.90499026e-01, -1.44108757e-01, -7.21856713e-01,\n         4.24939953e-02],\n       [-6.95728287e-02, -7.37054497e-02,  1.37516722e-01,\n         5.05864657e-02,  1.90224186e-01, -2.50417560e-01,\n        -7.23986924e-02,  2.32420526e-02,  1.63523480e-01,\n        -4.10117120e-01],\n       [ 2.35891372e-01,  5.10749854e-02,  3.52339566e-01,\n         2.83912927e-01,  2.01098040e-01, -4.34632152e-01,\n         9.28833783e-02, -1.68073267e-01,  2.28679940e-01,\n        -5.65445900e-01],\n       [ 6.51552439e-01, -3.39142442e-01, -1.31559417e-01,\n        -4.13390398e-01,  2.17015326e-01, -3.60053301e-01,\n         2.46869802e-01, -1.99474484e-01,  5.81142247e-01,\n        -8.95455554e-02],\n       [ 4.42099780e-01, -2.64298230e-01, -4.09846932e-01,\n        -6.88638806e-01,  2.08164647e-01,  1.93724245e-01,\n         6.50696993e-01,  5.29118896e-01,  1.71856090e-01,\n         2.81350970e-01],\n       [ 4.99806613e-01, -6.95829317e-02, -3.15171242e-01,\n         5.59776008e-01,  1.33409008e-01, -1.88855156e-01,\n        -7.24203214e-02,  5.39889395e-01,  1.25143349e-01,\n        -2.05202416e-01],\n       [-1.16271876e-01, -6.90803409e-01,  4.98315722e-01,\n         4.42529678e-01,  3.71984959e-01, -2.71788836e-01,\n        -2.59854108e-01,  4.21260208e-01, -2.70953447e-01,\n        -8.39893892e-02],\n       [ 1.84742004e-01, -3.08431089e-02,  9.46639031e-02,\n        -8.76248553e-02,  9.21215788e-02, -3.06964219e-01,\n        -1.62081286e-01,  2.40814430e-03, -3.11900765e-01,\n         5.82021661e-02],\n       [ 9.25718620e-02,  2.20053345e-01,  3.39723676e-02,\n         1.21495306e-01,  2.13713482e-01,  6.01464659e-02,\n        -5.01910567e-01, -2.90016592e-01, -7.80394673e-02,\n        -6.40902147e-02],\n       [-6.67954445e-01, -1.24629594e-01,  2.59252101e-01,\n         1.40920013e-01,  1.88296720e-01, -6.01523936e-01,\n        -2.18253165e-01, -1.01760387e-01, -1.68844506e-01,\n         1.59281138e-02],\n       [-4.88050133e-02, -2.57568419e-01,  4.22274470e-01,\n        -1.16006620e-01, -8.43618065e-02, -3.63405615e-01,\n        -3.38473290e-01,  2.44823292e-01, -2.94186056e-01,\n        -3.74214947e-02],\n       [ 5.37562430e-01,  1.31975323e-01, -8.43002945e-02,\n        -5.45753717e-01, -1.52883112e-01, -2.47782990e-01,\n         2.61184901e-01, -2.27996372e-02, -1.09827109e-02,\n         2.34101802e-01],\n       [ 2.13724241e-01, -2.01412708e-01,  1.85490713e-01,\n        -5.05827904e-01,  5.43695211e-01,  4.58554365e-02,\n         2.18456641e-01,  3.24005127e-01, -8.69916677e-02,\n         3.35860819e-01],\n       [-1.78967863e-01, -4.06027019e-01,  3.59797865e-01,\n         4.48033541e-01,  5.24074614e-01, -6.70487210e-02,\n        -2.56571889e-01,  9.44842696e-02,  1.03322007e-01,\n        -6.89956918e-02],\n       [-5.23411334e-01, -2.42101118e-01,  1.67830467e-01,\n        -2.94924360e-02,  2.49777719e-01, -5.36147416e-01,\n        -6.23199165e-01,  2.83982873e-01, -2.43687674e-01,\n         1.93128288e-01],\n       [ 3.84434760e-02,  1.69543773e-01, -1.43842071e-01,\n         1.88285589e-01, -3.37510407e-02,  1.19340092e-01,\n        -2.53379107e-01, -1.66949943e-01, -1.46334141e-01,\n        -2.07824662e-01],\n       [-4.10041094e-01,  1.02168899e-02,  1.65354535e-01,\n         1.01707958e-01,  1.70810342e-01,  1.30074158e-01,\n        -6.34931505e-01, -2.68496305e-01,  1.00415260e-01,\n        -2.85524338e-01],\n       [ 2.23855510e-01,  6.62639877e-03,  1.39272436e-01,\n         7.38388449e-02,  3.85848910e-01, -6.00940943e-01,\n        -2.05075338e-01, -1.01153433e-01, -5.93881965e-01,\n         1.16783246e-01],\n       [ 5.83450854e-01,  3.21632683e-01,  9.15893078e-01,\n        -1.91666856e-01, -2.35938698e-01, -2.90638655e-01,\n         5.23895264e-01, -4.83496726e-01, -1.18402731e+00,\n         2.23527148e-01],\n       [-1.31146908e-01,  1.60434872e-01,  5.59891537e-02,\n        -4.78424311e-01,  2.97189504e-01, -3.76792878e-01,\n         1.74399585e-01,  3.67663324e-01, -7.00463891e-01,\n        -1.45860091e-01],\n       [ 1.22870661e-01, -1.08101204e-01,  3.70501310e-01,\n        -4.51140344e-01,  5.68127871e-01, -5.38627625e-01,\n        -1.54396102e-01, -1.55140102e-01, -1.90331280e-01,\n         8.85530338e-02],\n       [-8.57083965e-03, -1.34579763e-01,  1.15376748e-01,\n         7.77274594e-02, -4.35416400e-02, -3.74628931e-01,\n        -2.00520441e-01, -3.52396488e-01,  2.83637315e-01,\n         3.65837067e-01],\n       [-9.44646373e-02, -2.64025748e-01,  2.59304225e-01,\n        -1.04600303e-02, -3.44112813e-01, -1.13665901e-01,\n        -4.07709569e-01, -4.17441338e-01,  4.25815284e-01,\n         1.95067108e-01],\n       [-1.44535840e-01,  2.98423499e-01,  1.08918384e-01,\n        -2.32159466e-01, -2.30450660e-01, -9.00040790e-02,\n         7.67326355e-03, -3.75619769e-01, -4.10198659e-01,\n         4.46108989e-02],\n       [ 1.10944942e-01, -2.51483340e-02,  2.17316747e-01,\n        -1.99614301e-01,  4.91172681e-03, -1.05689332e-01,\n        -1.91296667e-01,  1.98958471e-01, -3.14246327e-01,\n        -2.44956911e-01],\n       [ 8.31820071e-02,  2.25506917e-01,  1.23646744e-02,\n        -7.75983837e-03,  1.94436908e-01,  1.23646677e-01,\n        -1.84652478e-01, -3.92788112e-01, -3.03158522e-01,\n        -2.70049602e-01],\n       [ 8.16787109e-02,  3.42547029e-01,  1.89586371e-01,\n        -3.07036377e-02, -2.15827599e-01, -6.88458085e-02,\n        -4.23175693e-02, -8.76540616e-02, -4.90078628e-01,\n         7.06359744e-02],\n       [-6.89127266e-01, -5.73072247e-02,  2.65014991e-02,\n        -3.03978324e-01,  2.43539914e-01,  1.43967122e-01,\n         1.90377310e-02, -1.28562927e-01, -6.43474817e-01,\n        -3.29263270e-01],\n       [-3.87873977e-01,  1.27713844e-01, -9.60126370e-02,\n        -4.04006578e-02,  3.44572693e-01,  9.84243825e-02,\n         1.69270575e-01, -4.23663437e-01, -8.55513811e-02,\n        -3.83679777e-01],\n       [-2.23865107e-01,  1.14298686e-01,  2.48345900e-02,\n        -1.01703994e-01, -2.21006066e-01,  6.21420324e-01,\n         3.84713173e-01, -6.04289114e-01, -2.50968397e-01,\n        -4.77814786e-02],\n       [ 1.85266286e-01,  7.05364272e-02,  5.00702977e-01,\n        -1.87395215e-01, -4.01082128e-01,  5.94708622e-02,\n         7.22357212e-03, -8.34225565e-02,  6.52535632e-02,\n         1.99693516e-01],\n       [-1.36090696e-01, -3.38110030e-02,  1.48642391e-01,\n         8.64307210e-02, -1.18134508e-03,  6.19355999e-02,\n         1.18136793e-01, -2.50124007e-01, -2.36115888e-01,\n        -2.41422728e-01],\n       [ 1.93742849e-02,  1.79246850e-02,  9.64582488e-02,\n        -5.65757275e-01,  2.86689699e-01,  2.74621427e-01,\n         2.55256176e-01,  4.89321463e-02, -6.31918073e-01,\n         2.85740614e-01],\n       [-1.22448817e-01, -2.34146744e-01, -3.57270122e-01,\n        -8.92893448e-02,  2.17964381e-01,  1.00481056e-01,\n        -2.21919909e-01,  1.59580067e-01,  1.56111747e-03,\n        -2.21858606e-01],\n       [-1.64227620e-01,  1.68764174e-01, -2.15234622e-01,\n         1.73823759e-02,  1.50750309e-01,  4.45303649e-01,\n        -1.74822450e-01,  1.77081138e-01,  2.92275697e-01,\n         4.33896706e-02],\n       [-6.73273727e-02,  3.66605997e-01, -4.86426264e-01,\n         3.55169117e-01, -4.50589776e-01,  3.12457323e-01,\n        -4.43819836e-02, -2.38683060e-01,  4.93696719e-01,\n         2.18254536e-01],\n       [ 9.66156647e-02,  2.73221999e-01,  5.38240112e-02,\n         1.48363292e-01,  6.25088811e-02,  1.84045583e-02,\n         3.03086609e-01, -6.26289546e-01,  1.01499995e-02,\n        -3.09631109e-01],\n       [-3.30158502e-01, -2.53784005e-02,  1.14527330e-01,\n         1.36349395e-01,  1.35198712e-01,  9.35859084e-02,\n         4.01701540e-01, -2.59470195e-01, -3.99414420e-01,\n        -2.46222332e-01],\n       [-2.54235834e-01,  1.02463454e-01, -1.30754784e-01,\n         4.23720255e-02,  9.39971507e-02,  4.50843126e-01,\n         2.25774452e-01,  1.01479776e-01, -3.98170143e-01,\n        -5.27571142e-01],\n       [-4.27316129e-01, -1.65432423e-01, -2.51452029e-01,\n        -2.75746852e-01,  4.17729050e-01, -1.92961795e-03,\n         2.42017984e-01, -3.02333593e-01, -9.15114284e-01,\n         4.34922166e-02]], dtype=float32), array([0.6290652 , 0.30868617, 0.49937123, 0.4858813 , 0.43163577,\n       0.28230584, 0.49834242, 0.10187521, 0.7328636 , 0.27496293],\n      dtype=float32)]\n[array([[-0.19479623, -0.13590378, -0.35974577, -0.30313444,  0.20258968,\n        -0.8383885 , -0.75815994, -0.15591057,  1.0510184 ,  0.4541542 ],\n       [-0.14051513, -0.32086354,  0.53534454, -0.48155028, -0.26764676,\n         0.72765005,  0.25828275, -0.76066124,  0.18079129, -0.6843886 ],\n       [ 0.3566875 , -0.7146676 , -0.68181443, -0.31894925,  0.5414356 ,\n         0.06219705,  0.95809156, -0.4502879 , -0.04011684, -0.34712848],\n       [ 0.82019484,  0.08166426, -0.00820023, -0.38489854, -0.52462757,\n        -0.21062967, -1.1088402 , -0.21104261, -0.5181144 ,  0.5588288 ],\n       [-0.5798107 ,  0.54251814,  0.04867243, -0.07399011,  0.5859465 ,\n        -1.0074213 , -0.86696213,  0.08872052, -0.33908594, -0.58203995],\n       [-0.774576  , -0.8719611 ,  0.81767666,  0.7254915 , -0.8660318 ,\n        -0.02834325, -0.1716648 , -0.16384171, -0.3068558 ,  0.16223393],\n       [-0.27967367,  0.9469342 ,  0.1970383 , -0.40342948, -0.84755796,\n        -0.89150107, -0.04999167, -0.40017068,  0.35223266,  0.08299085],\n       [-0.89082986,  0.14573504, -0.09694792, -0.72550654,  0.34805152,\n        -0.15646891, -0.17091586,  0.85443854, -0.7108993 ,  0.3699437 ],\n       [-1.0349029 , -0.41573927, -1.2556967 ,  0.22115074, -0.16119741,\n         0.80247545, -0.58163273, -0.58011925, -0.39053562,  0.1581872 ],\n       [-0.31271854, -0.47066727, -0.06828033,  0.7643926 , -0.6671069 ,\n        -0.8047273 , -0.02342017,  0.745699  ,  0.10866333, -0.52595013]],\n      dtype=float32), array([ 0.36010897,  0.23447971, -0.25678986, -0.12987861, -0.0329615 ,\n        0.14490442,  0.11547793, -0.36921275,  0.11303438, -0.3239167 ],\n      dtype=float32)]\n"
     ]
    }
   ],
   "source": [
    "# see what the network weights look like\n",
    "for layer in model.layers:\n",
    "    weights = layer.get_weights()  # list of numpy arrays\n",
    "    print(weights)"
   ]
  },
  {
   "cell_type": "code",
   "execution_count": 11,
   "metadata": {},
   "outputs": [],
   "source": [
    "# save the model for later use\n",
    "filename = 'NumNet/models/NumNetModel'\n",
    "model.save(add_timestamp(filename))"
   ]
  }
 ],
 "metadata": {
  "kernelspec": {
   "display_name": "Python 3",
   "language": "python",
   "name": "python3"
  },
  "language_info": {
   "codemirror_mode": {
    "name": "ipython",
    "version": 3
   },
   "file_extension": ".py",
   "mimetype": "text/x-python",
   "name": "python",
   "nbconvert_exporter": "python",
   "pygments_lexer": "ipython3",
   "version": "3.6.5"
  }
 },
 "nbformat": 4,
 "nbformat_minor": 1
}
