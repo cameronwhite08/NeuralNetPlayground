{
 "cells": [
  {
   "cell_type": "code",
   "execution_count": 1,
   "metadata": {
    "collapsed": true
   },
   "outputs": [
    {
     "name": "stderr",
     "output_type": "stream",
     "text": [
      "C:\\Users\\Cameron\\Anaconda3\\lib\\site-packages\\h5py\\__init__.py:36: FutureWarning: Conversion of the second argument of issubdtype from `float` to `np.floating` is deprecated. In future, it will be treated as `np.float64 == np.dtype(float).type`.\n  from ._conv import register_converters as _register_converters\nUsing TensorFlow backend.\n"
     ]
    }
   ],
   "source": [
    "# import all the libraries we need\n",
    "from datetime import datetime\n",
    "\n",
    "import matplotlib.pyplot as plt\n",
    "\n",
    "import pandas as pd\n",
    "\n",
    "import numpy as np\n",
    "\n",
    "import keras\n",
    "from keras.models import Sequential\n",
    "from keras.layers import Dense\n"
   ]
  },
  {
   "cell_type": "code",
   "execution_count": 4,
   "metadata": {},
   "outputs": [],
   "source": [
    "# For visualizing a row of the dataset, transforming it into 8x8 image form\n",
    "def visualize_img(img_vec, title=\"\"):\n",
    "    plt.imshow(img_vec.values.reshape((8,8)), cmap=\"hot\")\n",
    "    plt.title(title)\n",
    "    plt.show()"
   ]
  },
  {
   "cell_type": "code",
   "execution_count": 7,
   "metadata": {},
   "outputs": [],
   "source": [
    "# To add a timestamp to a string of text\n",
    "def add_timestamp(text):\n",
    "    return text + str(datetime.now().year) \\\n",
    "           + str(datetime.now().month) \\\n",
    "           + str(datetime.now().day) \\\n",
    "           + str(datetime.now().second)"
   ]
  },
  {
   "cell_type": "code",
   "execution_count": 8,
   "metadata": {
    "collapsed": true
   },
   "outputs": [],
   "source": [
    "# load data from text files\n",
    "x = pd.read_csv('NumNet/data/optdigits_train.txt', usecols=[x for x in range(64)], header=None)\n",
    "y = pd.read_csv('NumNet/data/optdigits_train.txt', usecols=[64], header=None)\n",
    "test = pd.read_csv('NumNet/data/optdigits_test.txt', usecols=[x for x in range(64)], header=None)\n",
    "test_label = pd.read_csv('NumNet/data/optdigits_test.txt', usecols=[64], header=None)"
   ]
  },
  {
   "cell_type": "code",
   "execution_count": 9,
   "metadata": {},
   "outputs": [],
   "source": [
    "# Convert the y data to [0 0 1 0 ... 0] form\n",
    "y = keras.utils.to_categorical(y, num_classes=10)\n",
    "test_label = keras.utils.to_categorical(test_label, num_classes=10)"
   ]
  },
  {
   "cell_type": "code",
   "execution_count": 10,
   "metadata": {
    "collapsed": true
   },
   "outputs": [
    {
     "name": "stdout",
     "output_type": "stream",
     "text": [
      "           0            1            2            3            4   \\\ncount  3823.0  3823.000000  3823.000000  3823.000000  3823.000000   \nmean      0.0     0.301334     5.481821    11.805912    11.451478   \nstd       0.0     0.866986     4.631601     4.259811     4.537556   \nmin       0.0     0.000000     0.000000     0.000000     0.000000   \n25%       0.0     0.000000     1.000000    10.000000     9.000000   \n50%       0.0     0.000000     5.000000    13.000000    13.000000   \n75%       0.0     0.000000     9.000000    15.000000    15.000000   \nmax       0.0     8.000000    16.000000    16.000000    16.000000   \n\n                5            6            7            8            9   \\\ncount  3823.000000  3823.000000  3823.000000  3823.000000  3823.000000   \nmean      5.505362     1.387392     0.142297     0.002093     1.960502   \nstd       5.613060     3.371444     1.051598     0.088572     3.052353   \nmin       0.000000     0.000000     0.000000     0.000000     0.000000   \n25%       0.000000     0.000000     0.000000     0.000000     0.000000   \n50%       4.000000     0.000000     0.000000     0.000000     0.000000   \n75%      10.000000     0.000000     0.000000     0.000000     3.000000   \nmax      16.000000    16.000000    16.000000     5.000000    15.000000   \n\n          ...                54           55           56           57  \\\ncount     ...       3823.000000  3823.000000  3823.000000  3823.000000   \nmean      ...          3.743918     0.148313     0.000262     0.283024   \nstd       ...          4.901657     0.767761     0.016173     0.928046   \nmin       ...          0.000000     0.000000     0.000000     0.000000   \n25%       ...          0.000000     0.000000     0.000000     0.000000   \n50%       ...          1.000000     0.000000     0.000000     0.000000   \n75%       ...          7.000000     0.000000     0.000000     0.000000   \nmax       ...         16.000000    12.000000     1.000000    10.000000   \n\n                58           59           60           61           62  \\\ncount  3823.000000  3823.000000  3823.000000  3823.000000  3823.000000   \nmean      5.855872    11.942977    11.461156     6.700497     2.105676   \nstd       4.980012     4.334508     4.991934     5.775815     4.028266   \nmin       0.000000     0.000000     0.000000     0.000000     0.000000   \n25%       1.000000    10.000000     9.000000     0.000000     0.000000   \n50%       5.000000    13.000000    13.000000     6.000000     0.000000   \n75%      10.000000    15.000000    16.000000    12.000000     2.000000   \nmax      16.000000    16.000000    16.000000    16.000000    16.000000   \n\n                63  \ncount  3823.000000  \nmean      0.202197  \nstd       1.150694  \nmin       0.000000  \n25%       0.000000  \n50%       0.000000  \n75%       0.000000  \nmax      16.000000  \n\n[8 rows x 64 columns]\n"
     ]
    }
   ],
   "source": [
    "# get a feel for what data in in the training set\n",
    "print(x.describe())"
   ]
  },
  {
   "cell_type": "code",
   "execution_count": 11,
   "metadata": {},
   "outputs": [],
   "source": [
    "# to visualize dataset\n",
    "random_indices = np.random.randint(0, x.shape[0], 3)  \n",
    "for idx in random_indices:\n",
    "    visualize_img(x.iloc[idx, :], title=str(idx))"
   ]
  },
  {
   "cell_type": "code",
   "execution_count": 12,
   "metadata": {},
   "outputs": [],
   "source": [
    "# gather means and std's\n",
    "x_means = x.mean(axis=0)\n",
    "x_stds = x.std(axis=0)\n",
    "test_means = test.mean(axis=0)\n",
    "test_stds = test.std(axis=0)"
   ]
  },
  {
   "cell_type": "code",
   "execution_count": 13,
   "metadata": {},
   "outputs": [],
   "source": [
    "# Make training and testing set have Zero mean\n",
    "# and 1 standard deviation\n",
    "x = x.subtract(x_means)\n",
    "x = x.divide(x_stds).fillna(0)\n",
    "test = test.subtract(test_means)\n",
    "test = test.divide(test_stds).fillna(0)"
   ]
  },
  {
   "cell_type": "code",
   "execution_count": 15,
   "metadata": {},
   "outputs": [],
   "source": [
    "# build the model\n",
    "model = Sequential()\n",
    "model.add(Dense(10, activation='relu', input_dim=64))\n",
    "model.add(Dense(10, activation='softmax'))\n",
    "# I went with the simplest model i could. I wanted to try to keep max\n",
    "# accuracy above 94% and have a fast training time"
   ]
  },
  {
   "cell_type": "code",
   "execution_count": 16,
   "metadata": {},
   "outputs": [],
   "source": [
    "model.compile(loss='categorical_crossentropy',      # A way to compare outputs of categorical problems where each is in a range [0,1]\n",
    "              optimizer='adam',                     # a good optimizer\n",
    "              metrics=['accuracy'])                 # use the model accuracy for training"
   ]
  },
  {
   "cell_type": "code",
   "execution_count": 18,
   "metadata": {
    "collapsed": true
   },
   "outputs": [
    {
     "name": "stderr",
     "output_type": "stream",
     "text": [
      "C:\\Users\\Cameron\\Anaconda3\\lib\\site-packages\\ipykernel_launcher.py:2: FutureWarning: Method .as_matrix will be removed in a future version. Use .values instead.\n  \n"
     ]
    },
    {
     "name": "stdout",
     "output_type": "stream",
     "text": [
      "Epoch 1/20\n"
     ]
    },
    {
     "name": "stdout",
     "output_type": "stream",
     "text": [
      "\r  32/3823 [..............................] - ETA: 24s - loss: 2.4470 - acc: 0.2188"
     ]
    },
    {
     "name": "stdout",
     "output_type": "stream",
     "text": [
      "\b\b\b\b\b\b\b\b\b\b\b\b\b\b\b\b\b\b\b\b\b\b\b\b\b\b\b\b\b\b\b\b\b\b\b\b\b\b\b\b\b\b\b\b\b\b\b\b\b\b\b\b\b\b\b\b\b\b\b\b\b\b\b\b\b\b\b\b\b\b\b\b\b\b\b\b\b\b\b\b\b\b\r1600/3823 [===========>..................] - ETA: 0s - loss: 2.2301 - acc: 0.2169 "
     ]
    },
    {
     "name": "stdout",
     "output_type": "stream",
     "text": [
      "\b\b\b\b\b\b\b\b\b\b\b\b\b\b\b\b\b\b\b\b\b\b\b\b\b\b\b\b\b\b\b\b\b\b\b\b\b\b\b\b\b\b\b\b\b\b\b\b\b\b\b\b\b\b\b\b\b\b\b\b\b\b\b\b\b\b\b\b\b\b\b\b\b\b\b\b\b\b\b\b\b\r3584/3823 [===========================>..] - ETA: 0s - loss: 1.9974 - acc: 0.3181"
     ]
    },
    {
     "name": "stdout",
     "output_type": "stream",
     "text": [
      "\b\b\b\b\b\b\b\b\b\b\b\b\b\b\b\b\b\b\b\b\b\b\b\b\b\b\b\b\b\b\b\b\b\b\b\b\b\b\b\b\b\b\b\b\b\b\b\b\b\b\b\b\b\b\b\b\b\b\b\b\b\b\b\b\b\b\b\b\b\b\b\b\b\b\b\b\b\b\b\b\b\r3823/3823 [==============================] - 0s 82us/step - loss: 1.9761 - acc: 0.3230\n"
     ]
    },
    {
     "name": "stdout",
     "output_type": "stream",
     "text": [
      "Epoch 2/20\n\r  32/3823 [..............................] - ETA: 0s - loss: 1.4833 - acc: 0.5312"
     ]
    },
    {
     "name": "stdout",
     "output_type": "stream",
     "text": [
      "\b\b\b\b\b\b\b\b\b\b\b\b\b\b\b\b\b\b\b\b\b\b\b\b\b\b\b\b\b\b\b\b\b\b\b\b\b\b\b\b\b\b\b\b\b\b\b\b\b\b\b\b\b\b\b\b\b\b\b\b\b\b\b\b\b\b\b\b\b\b\b\b\b\b\b\b\b\b\b\b\b\r1920/3823 [==============>...............] - ETA: 0s - loss: 1.3738 - acc: 0.5698"
     ]
    },
    {
     "name": "stdout",
     "output_type": "stream",
     "text": [
      "\b\b\b\b\b\b\b\b\b\b\b\b\b\b\b\b\b\b\b\b\b\b\b\b\b\b\b\b\b\b\b\b\b\b\b\b\b\b\b\b\b\b\b\b\b\b\b\b\b\b\b\b\b\b\b\b\b\b\b\b\b\b\b\b\b\b\b\b\b\b\b\b\b\b\b\b\b\b\b\b\b\r3744/3823 [============================>.] - ETA: 0s - loss: 1.2493 - acc: 0.6202"
     ]
    },
    {
     "name": "stdout",
     "output_type": "stream",
     "text": [
      "\b\b\b\b\b\b\b\b\b\b\b\b\b\b\b\b\b\b\b\b\b\b\b\b\b\b\b\b\b\b\b\b\b\b\b\b\b\b\b\b\b\b\b\b\b\b\b\b\b\b\b\b\b\b\b\b\b\b\b\b\b\b\b\b\b\b\b\b\b\b\b\b\b\b\b\b\b\b\b\b\b\r3823/3823 [==============================] - 0s 28us/step - loss: 1.2430 - acc: 0.6220\n"
     ]
    },
    {
     "name": "stdout",
     "output_type": "stream",
     "text": [
      "Epoch 3/20\n\r  32/3823 [..............................] - ETA: 0s - loss: 1.0500 - acc: 0.7188"
     ]
    },
    {
     "name": "stdout",
     "output_type": "stream",
     "text": [
      "\b\b\b\b\b\b\b\b\b\b\b\b\b\b\b\b\b\b\b\b\b\b\b\b\b\b\b\b\b\b\b\b\b\b\b\b\b\b\b\b\b\b\b\b\b\b\b\b\b\b\b\b\b\b\b\b\b\b\b\b\b\b\b\b\b\b\b\b\b\b\b\b\b\b\b\b\b\b\b\b\b\r1728/3823 [============>.................] - ETA: 0s - loss: 0.9059 - acc: 0.7465"
     ]
    },
    {
     "name": "stdout",
     "output_type": "stream",
     "text": [
      "\b\b\b\b\b\b\b\b\b\b\b\b\b\b\b\b\b\b\b\b\b\b\b\b\b\b\b\b\b\b\b\b\b\b\b\b\b\b\b\b\b\b\b\b\b\b\b\b\b\b\b\b\b\b\b\b\b\b\b\b\b\b\b\b\b\b\b\b\b\b\b\b\b\b\b\b\b\b\b\b\b\r3680/3823 [===========================>..] - ETA: 0s - loss: 0.8265 - acc: 0.7783"
     ]
    },
    {
     "name": "stdout",
     "output_type": "stream",
     "text": [
      "\b\b\b\b\b\b\b\b\b\b\b\b\b\b\b\b\b\b\b\b\b\b\b\b\b\b\b\b\b\b\b\b\b\b\b\b\b\b\b\b\b\b\b\b\b\b\b\b\b\b\b\b\b\b\b\b\b\b\b\b\b\b\b\b\b\b\b\b\b\b\b\b\b\b\b\b\b\b\b\b\b\r3823/3823 [==============================] - 0s 29us/step - loss: 0.8180 - acc: 0.7816\n"
     ]
    },
    {
     "name": "stdout",
     "output_type": "stream",
     "text": [
      "Epoch 4/20\n\r  32/3823 [..............................] - ETA: 0s - loss: 0.5660 - acc: 0.9062"
     ]
    },
    {
     "name": "stdout",
     "output_type": "stream",
     "text": [
      "\b\b\b\b\b\b\b\b\b\b\b\b\b\b\b\b\b\b\b\b\b\b\b\b\b\b\b\b\b\b\b\b\b\b\b\b\b\b\b\b\b\b\b\b\b\b\b\b\b\b\b\b\b\b\b\b\b\b\b\b\b\b\b\b\b\b\b\b\b\b\b\b\b\b\b\b\b\b\b\b\b\r1760/3823 [============>.................] - ETA: 0s - loss: 0.6275 - acc: 0.8386"
     ]
    },
    {
     "name": "stdout",
     "output_type": "stream",
     "text": [
      "\b\b\b\b\b\b\b\b\b\b\b\b\b\b\b\b\b\b\b\b\b\b\b\b\b\b\b\b\b\b\b\b\b\b\b\b\b\b\b\b\b\b\b\b\b\b\b\b\b\b\b\b\b\b\b\b\b\b\b\b\b\b\b\b\b\b\b\b\b\b\b\b\b\b\b\b\b\b\b\b\b\r3328/3823 [=========================>....] - ETA: 0s - loss: 0.5934 - acc: 0.8459"
     ]
    },
    {
     "name": "stdout",
     "output_type": "stream",
     "text": [
      "\b\b\b\b\b\b\b\b\b\b\b\b\b\b\b\b\b\b\b\b\b\b\b\b\b\b\b\b\b\b\b\b\b\b\b\b\b\b\b\b\b\b\b\b\b\b\b\b\b\b\b\b\b\b\b\b\b\b\b\b\b\b\b\b\b\b\b\b\b\b\b\b\b\b\b\b\b\b\b\b\b\r3823/3823 [==============================] - 0s 32us/step - loss: 0.5846 - acc: 0.8496\n"
     ]
    },
    {
     "name": "stdout",
     "output_type": "stream",
     "text": [
      "Epoch 5/20\n\r  32/3823 [..............................] - ETA: 0s - loss: 0.4318 - acc: 0.9688"
     ]
    },
    {
     "name": "stdout",
     "output_type": "stream",
     "text": [
      "\b\b\b\b\b\b\b\b\b\b\b\b\b\b\b\b\b\b\b\b\b\b\b\b\b\b\b\b\b\b\b\b\b\b\b\b\b\b\b\b\b\b\b\b\b\b\b\b\b\b\b\b\b\b\b\b\b\b\b\b\b\b\b\b\b\b\b\b\b\b\b\b\b\b\b\b\b\b\b\b\b\r1472/3823 [==========>...................] - ETA: 0s - loss: 0.4789 - acc: 0.8757"
     ]
    },
    {
     "name": "stdout",
     "output_type": "stream",
     "text": [
      "\b\b\b\b\b\b\b\b\b\b\b\b\b\b\b\b\b\b\b\b\b\b\b\b\b\b\b\b\b\b\b\b\b\b\b\b\b\b\b\b\b\b\b\b\b\b\b\b\b\b\b\b\b\b\b\b\b\b\b\b\b\b\b\b\b\b\b\b\b\b\b\b\b\b\b\b\b\b\b\b\b\r3232/3823 [========================>.....] - ETA: 0s - loss: 0.4442 - acc: 0.8861"
     ]
    },
    {
     "name": "stdout",
     "output_type": "stream",
     "text": [
      "\b\b\b\b\b\b\b\b\b\b\b\b\b\b\b\b\b\b\b\b\b\b\b\b\b\b\b\b\b\b\b\b\b\b\b\b\b\b\b\b\b\b\b\b\b\b\b\b\b\b\b\b\b\b\b\b\b\b\b\b\b\b\b\b\b\b\b\b\b\b\b\b\b\b\b\b\b\b\b\b\b\r3823/3823 [==============================] - 0s 32us/step - loss: 0.4451 - acc: 0.8857\n"
     ]
    },
    {
     "name": "stdout",
     "output_type": "stream",
     "text": [
      "Epoch 6/20\n\r  32/3823 [..............................] - ETA: 0s - loss: 0.2875 - acc: 0.9688"
     ]
    },
    {
     "name": "stdout",
     "output_type": "stream",
     "text": [
      "\b\b\b\b\b\b\b\b\b\b\b\b\b\b\b\b\b\b\b\b\b\b\b\b\b\b\b\b\b\b\b\b\b\b\b\b\b\b\b\b\b\b\b\b\b\b\b\b\b\b\b\b\b\b\b\b\b\b\b\b\b\b\b\b\b\b\b\b\b\b\b\b\b\b\b\b\b\b\b\b\b\r1728/3823 [============>.................] - ETA: 0s - loss: 0.3602 - acc: 0.9028"
     ]
    },
    {
     "name": "stdout",
     "output_type": "stream",
     "text": [
      "\b\b\b\b\b\b\b\b\b\b\b\b\b\b\b\b\b\b\b\b\b\b\b\b\b\b\b\b\b\b\b\b\b\b\b\b\b\b\b\b\b\b\b\b\b\b\b\b\b\b\b\b\b\b\b\b\b\b\b\b\b\b\b\b\b\b\b\b\b\b\b\b\b\b\b\b\b\b\b\b\b\r3584/3823 [===========================>..] - ETA: 0s - loss: 0.3560 - acc: 0.9090"
     ]
    },
    {
     "name": "stdout",
     "output_type": "stream",
     "text": [
      "\b\b\b\b\b\b\b\b\b\b\b\b\b\b\b\b\b\b\b\b\b\b\b\b\b\b\b\b\b\b\b\b\b\b\b\b\b\b\b\b\b\b\b\b\b\b\b\b\b\b\b\b\b\b\b\b\b\b\b\b\b\b\b\b\b\b\b\b\b\b\b\b\b\b\b\b\b\b\b\b\b\r3823/3823 [==============================] - 0s 30us/step - loss: 0.3552 - acc: 0.9090\n"
     ]
    },
    {
     "name": "stdout",
     "output_type": "stream",
     "text": [
      "Epoch 7/20\n\r  32/3823 [..............................] - ETA: 0s - loss: 0.1602 - acc: 1.0000"
     ]
    },
    {
     "name": "stdout",
     "output_type": "stream",
     "text": [
      "\b\b\b\b\b\b\b\b\b\b\b\b\b\b\b\b\b\b\b\b\b\b\b\b\b\b\b\b\b\b\b\b\b\b\b\b\b\b\b\b\b\b\b\b\b\b\b\b\b\b\b\b\b\b\b\b\b\b\b\b\b\b\b\b\b\b\b\b\b\b\b\b\b\b\b\b\b\b\b\b\b\r1792/3823 [=============>................] - ETA: 0s - loss: 0.3036 - acc: 0.9213"
     ]
    },
    {
     "name": "stdout",
     "output_type": "stream",
     "text": [
      "\b\b\b\b\b\b\b\b\b\b\b\b\b\b\b\b\b\b\b\b\b\b\b\b\b\b\b\b\b\b\b\b\b\b\b\b\b\b\b\b\b\b\b\b\b\b\b\b\b\b\b\b\b\b\b\b\b\b\b\b\b\b\b\b\b\b\b\b\b\b\b\b\b\b\b\b\b\b\b\b\b\r3392/3823 [=========================>....] - ETA: 0s - loss: 0.2930 - acc: 0.9284"
     ]
    },
    {
     "name": "stdout",
     "output_type": "stream",
     "text": [
      "\b\b\b\b\b\b\b\b\b\b\b\b\b\b\b\b\b\b\b\b\b\b\b\b\b\b\b\b\b\b\b\b\b\b\b\b\b\b\b\b\b\b\b\b\b\b\b\b\b\b\b\b\b\b\b\b\b\b\b\b\b\b\b\b\b\b\b\b\b\b\b\b\b\b\b\b\b\b\b\b\b\r3823/3823 [==============================] - 0s 32us/step - loss: 0.2939 - acc: 0.9281\n"
     ]
    },
    {
     "name": "stdout",
     "output_type": "stream",
     "text": [
      "Epoch 8/20\n\r  32/3823 [..............................] - ETA: 0s - loss: 0.4452 - acc: 0.9062"
     ]
    },
    {
     "name": "stdout",
     "output_type": "stream",
     "text": [
      "\b\b\b\b\b\b\b\b\b\b\b\b\b\b\b\b\b\b\b\b\b\b\b\b\b\b\b\b\b\b\b\b\b\b\b\b\b\b\b\b\b\b\b\b\b\b\b\b\b\b\b\b\b\b\b\b\b\b\b\b\b\b\b\b\b\b\b\b\b\b\b\b\b\b\b\b\b\b\b\b\b\r1504/3823 [==========>...................] - ETA: 0s - loss: 0.2475 - acc: 0.9435"
     ]
    },
    {
     "name": "stdout",
     "output_type": "stream",
     "text": [
      "\b\b\b\b\b\b\b\b\b\b\b\b\b\b\b\b\b\b\b\b\b\b\b\b\b\b\b\b\b\b\b\b\b\b\b\b\b\b\b\b\b\b\b\b\b\b\b\b\b\b\b\b\b\b\b\b\b\b\b\b\b\b\b\b\b\b\b\b\b\b\b\b\b\b\b\b\b\b\b\b\b\r3104/3823 [=======================>......] - ETA: 0s - loss: 0.2449 - acc: 0.9420"
     ]
    },
    {
     "name": "stdout",
     "output_type": "stream",
     "text": [
      "\b\b\b\b\b\b\b\b\b\b\b\b\b\b\b\b\b\b\b\b\b\b\b\b\b\b\b\b\b\b\b\b\b\b\b\b\b\b\b\b\b\b\b\b\b\b\b\b\b\b\b\b\b\b\b\b\b\b\b\b\b\b\b\b\b\b\b\b\b\b\b\b\b\b\b\b\b\b\b\b\b\r3823/3823 [==============================] - 0s 33us/step - loss: 0.2517 - acc: 0.9388\n"
     ]
    },
    {
     "name": "stdout",
     "output_type": "stream",
     "text": [
      "Epoch 9/20\n\r  32/3823 [..............................] - ETA: 0s - loss: 0.2598 - acc: 0.9375"
     ]
    },
    {
     "name": "stdout",
     "output_type": "stream",
     "text": [
      "\b\b\b\b\b\b\b\b\b\b\b\b\b\b\b\b\b\b\b\b\b\b\b\b\b\b\b\b\b\b\b\b\b\b\b\b\b\b\b\b\b\b\b\b\b\b\b\b\b\b\b\b\b\b\b\b\b\b\b\b\b\b\b\b\b\b\b\b\b\b\b\b\b\b\b\b\b\b\b\b\b\r1600/3823 [===========>..................] - ETA: 0s - loss: 0.2249 - acc: 0.9450"
     ]
    },
    {
     "name": "stdout",
     "output_type": "stream",
     "text": [
      "\b\b\b\b\b\b\b\b\b\b\b\b\b\b\b\b\b\b\b\b\b\b\b\b\b\b\b\b\b\b\b\b\b\b\b\b\b\b\b\b\b\b\b\b\b\b\b\b\b\b\b\b\b\b\b\b\b\b\b\b\b\b\b\b\b\b\b\b\b\b\b\b\b\b\b\b\b\b\b\b\b\r2848/3823 [=====================>........] - ETA: 0s - loss: 0.2206 - acc: 0.9470"
     ]
    },
    {
     "name": "stdout",
     "output_type": "stream",
     "text": [
      "\b\b\b\b\b\b\b\b\b\b\b\b\b\b\b\b\b\b\b\b\b\b\b\b\b\b\b\b\b\b\b\b\b\b\b\b\b\b\b\b\b\b\b\b\b\b\b\b\b\b\b\b\b\b\b\b\b\b\b\b\b\b\b\b\b\b\b\b\b\b\b\b\b\b\b\b\b\b\b\b\b\r3823/3823 [==============================] - 0s 36us/step - loss: 0.2210 - acc: 0.9453\n"
     ]
    },
    {
     "name": "stdout",
     "output_type": "stream",
     "text": [
      "Epoch 10/20\n\r  32/3823 [..............................] - ETA: 0s - loss: 0.1674 - acc: 0.9375"
     ]
    },
    {
     "name": "stdout",
     "output_type": "stream",
     "text": [
      "\b\b\b\b\b\b\b\b\b\b\b\b\b\b\b\b\b\b\b\b\b\b\b\b\b\b\b\b\b\b\b\b\b\b\b\b\b\b\b\b\b\b\b\b\b\b\b\b\b\b\b\b\b\b\b\b\b\b\b\b\b\b\b\b\b\b\b\b\b\b\b\b\b\b\b\b\b\b\b\b\b\r1664/3823 [============>.................] - ETA: 0s - loss: 0.1991 - acc: 0.9519"
     ]
    },
    {
     "name": "stdout",
     "output_type": "stream",
     "text": [
      "\b\b\b\b\b\b\b\b\b\b\b\b\b\b\b\b\b\b\b\b\b\b\b\b\b\b\b\b\b\b\b\b\b\b\b\b\b\b\b\b\b\b\b\b\b\b\b\b\b\b\b\b\b\b\b\b\b\b\b\b\b\b\b\b\b\b\b\b\b\b\b\b\b\b\b\b\b\b\b\b\b\r3456/3823 [==========================>...] - ETA: 0s - loss: 0.2012 - acc: 0.9505"
     ]
    },
    {
     "name": "stdout",
     "output_type": "stream",
     "text": [
      "\b\b\b\b\b\b\b\b\b\b\b\b\b\b\b\b\b\b\b\b\b\b\b\b\b\b\b\b\b\b\b\b\b\b\b\b\b\b\b\b\b\b\b\b\b\b\b\b\b\b\b\b\b\b\b\b\b\b\b\b\b\b\b\b\b\b\b\b\b\b\b\b\b\b\b\b\b\b\b\b\b\r3823/3823 [==============================] - 0s 31us/step - loss: 0.1979 - acc: 0.9503\n"
     ]
    },
    {
     "name": "stdout",
     "output_type": "stream",
     "text": [
      "Epoch 11/20\n\r  32/3823 [..............................] - ETA: 0s - loss: 0.0909 - acc: 1.0000"
     ]
    },
    {
     "name": "stdout",
     "output_type": "stream",
     "text": [
      "\b\b\b\b\b\b\b\b\b\b\b\b\b\b\b\b\b\b\b\b\b\b\b\b\b\b\b\b\b\b\b\b\b\b\b\b\b\b\b\b\b\b\b\b\b\b\b\b\b\b\b\b\b\b\b\b\b\b\b\b\b\b\b\b\b\b\b\b\b\b\b\b\b\b\b\b\b\b\b\b\b\r1760/3823 [============>.................] - ETA: 0s - loss: 0.1732 - acc: 0.9580"
     ]
    },
    {
     "name": "stdout",
     "output_type": "stream",
     "text": [
      "\b\b\b\b\b\b\b\b\b\b\b\b\b\b\b\b\b\b\b\b\b\b\b\b\b\b\b\b\b\b\b\b\b\b\b\b\b\b\b\b\b\b\b\b\b\b\b\b\b\b\b\b\b\b\b\b\b\b\b\b\b\b\b\b\b\b\b\b\b\b\b\b\b\b\b\b\b\b\b\b\b\r3680/3823 [===========================>..] - ETA: 0s - loss: 0.1791 - acc: 0.9560"
     ]
    },
    {
     "name": "stdout",
     "output_type": "stream",
     "text": [
      "\b\b\b\b\b\b\b\b\b\b\b\b\b\b\b\b\b\b\b\b\b\b\b\b\b\b\b\b\b\b\b\b\b\b\b\b\b\b\b\b\b\b\b\b\b\b\b\b\b\b\b\b\b\b\b\b\b\b\b\b\b\b\b\b\b\b\b\b\b\b\b\b\b\b\b\b\b\b\b\b\b\r3823/3823 [==============================] - 0s 28us/step - loss: 0.1803 - acc: 0.9561\n"
     ]
    },
    {
     "name": "stdout",
     "output_type": "stream",
     "text": [
      "Epoch 12/20\n\r  32/3823 [..............................] - ETA: 0s - loss: 0.1676 - acc: 0.9375"
     ]
    },
    {
     "name": "stdout",
     "output_type": "stream",
     "text": [
      "\b\b\b\b\b\b\b\b\b\b\b\b\b\b\b\b\b\b\b\b\b\b\b\b\b\b\b\b\b\b\b\b\b\b\b\b\b\b\b\b\b\b\b\b\b\b\b\b\b\b\b\b\b\b\b\b\b\b\b\b\b\b\b\b\b\b\b\b\b\b\b\b\b\b\b\b\b\b\b\b\b\r1888/3823 [=============>................] - ETA: 0s - loss: 0.1755 - acc: 0.9603"
     ]
    },
    {
     "name": "stdout",
     "output_type": "stream",
     "text": [
      "\b\b\b\b\b\b\b\b\b\b\b\b\b\b\b\b\b\b\b\b\b\b\b\b\b\b\b\b\b\b\b\b\b\b\b\b\b\b\b\b\b\b\b\b\b\b\b\b\b\b\b\b\b\b\b\b\b\b\b\b\b\b\b\b\b\b\b\b\b\b\b\b\b\b\b\b\b\b\b\b\b\r3520/3823 [==========================>...] - ETA: 0s - loss: 0.1676 - acc: 0.9585"
     ]
    },
    {
     "name": "stdout",
     "output_type": "stream",
     "text": [
      "\b\b\b\b\b\b\b\b\b\b\b\b\b\b\b\b\b\b\b\b\b\b\b\b\b\b\b\b\b\b\b\b\b\b\b\b\b\b\b\b\b\b\b\b\b\b\b\b\b\b\b\b\b\b\b\b\b\b\b\b\b\b\b\b\b\b\b\b\b\b\b\b\b\b\b\b\b\b\b\b\b\r3823/3823 [==============================] - 0s 30us/step - loss: 0.1659 - acc: 0.9592\n"
     ]
    },
    {
     "name": "stdout",
     "output_type": "stream",
     "text": [
      "Epoch 13/20\n\r  32/3823 [..............................] - ETA: 0s - loss: 0.3202 - acc: 0.9375"
     ]
    },
    {
     "name": "stdout",
     "output_type": "stream",
     "text": [
      "\b\b\b\b\b\b\b\b\b\b\b\b\b\b\b\b\b\b\b\b\b\b\b\b\b\b\b\b\b\b\b\b\b\b\b\b\b\b\b\b\b\b\b\b\b\b\b\b\b\b\b\b\b\b\b\b\b\b\b\b\b\b\b\b\b\b\b\b\b\b\b\b\b\b\b\b\b\b\b\b\b\r1632/3823 [===========>..................] - ETA: 0s - loss: 0.1497 - acc: 0.9614"
     ]
    },
    {
     "name": "stdout",
     "output_type": "stream",
     "text": [
      "\b\b\b\b\b\b\b\b\b\b\b\b\b\b\b\b\b\b\b\b\b\b\b\b\b\b\b\b\b\b\b\b\b\b\b\b\b\b\b\b\b\b\b\b\b\b\b\b\b\b\b\b\b\b\b\b\b\b\b\b\b\b\b\b\b\b\b\b\b\b\b\b\b\b\b\b\b\b\b\b\b\r3520/3823 [==========================>...] - ETA: 0s - loss: 0.1551 - acc: 0.9628"
     ]
    },
    {
     "name": "stdout",
     "output_type": "stream",
     "text": [
      "\b\b\b\b\b\b\b\b\b\b\b\b\b\b\b\b\b\b\b\b\b\b\b\b\b\b\b\b\b\b\b\b\b\b\b\b\b\b\b\b\b\b\b\b\b\b\b\b\b\b\b\b\b\b\b\b\b\b\b\b\b\b\b\b\b\b\b\b\b\b\b\b\b\b\b\b\b\b\b\b\b\r3823/3823 [==============================] - 0s 30us/step - loss: 0.1541 - acc: 0.9626\n"
     ]
    },
    {
     "name": "stdout",
     "output_type": "stream",
     "text": [
      "Epoch 14/20\n"
     ]
    },
    {
     "name": "stdout",
     "output_type": "stream",
     "text": [
      "\r  32/3823 [..............................] - ETA: 0s - loss: 0.1195 - acc: 1.0000"
     ]
    },
    {
     "name": "stdout",
     "output_type": "stream",
     "text": [
      "\b\b\b\b\b\b\b\b\b\b\b\b\b\b\b\b\b\b\b\b\b\b\b\b\b\b\b\b\b\b\b\b\b\b\b\b\b\b\b\b\b\b\b\b\b\b\b\b\b\b\b\b\b\b\b\b\b\b\b\b\b\b\b\b\b\b\b\b\b\b\b\b\b\b\b\b\b\b\b\b\b\r1248/3823 [========>.....................] - ETA: 0s - loss: 0.1391 - acc: 0.9696"
     ]
    },
    {
     "name": "stdout",
     "output_type": "stream",
     "text": [
      "\b\b\b\b\b\b\b\b\b\b\b\b\b\b\b\b\b\b\b\b\b\b\b\b\b\b\b\b\b\b\b\b\b\b\b\b\b\b\b\b\b\b\b\b\b\b\b\b\b\b\b\b\b\b\b\b\b\b\b\b\b\b\b\b\b\b\b\b\b\b\b\b\b\b\b\b\b\b\b\b\b\r2976/3823 [======================>.......] - ETA: 0s - loss: 0.1433 - acc: 0.9681"
     ]
    },
    {
     "name": "stdout",
     "output_type": "stream",
     "text": [
      "\b\b\b\b\b\b\b\b\b\b\b\b\b\b\b\b\b\b\b\b\b\b\b\b\b\b\b\b\b\b\b\b\b\b\b\b\b\b\b\b\b\b\b\b\b\b\b\b\b\b\b\b\b\b\b\b\b\b\b\b\b\b\b\b\b\b\b\b\b\b\b\b\b\b\b\b\b\b\b\b\b\r3823/3823 [==============================] - 0s 33us/step - loss: 0.1439 - acc: 0.9665\n"
     ]
    },
    {
     "name": "stdout",
     "output_type": "stream",
     "text": [
      "Epoch 15/20\n\r  32/3823 [..............................] - ETA: 0s - loss: 0.1485 - acc: 1.0000"
     ]
    },
    {
     "name": "stdout",
     "output_type": "stream",
     "text": [
      "\b\b\b\b\b\b\b\b\b\b\b\b\b\b\b\b\b\b\b\b\b\b\b\b\b\b\b\b\b\b\b\b\b\b\b\b\b\b\b\b\b\b\b\b\b\b\b\b\b\b\b\b\b\b\b\b\b\b\b\b\b\b\b\b\b\b\b\b\b\b\b\b\b\b\b\b\b\b\b\b\b\r1632/3823 [===========>..................] - ETA: 0s - loss: 0.1268 - acc: 0.9749"
     ]
    },
    {
     "name": "stdout",
     "output_type": "stream",
     "text": [
      "\b\b\b\b\b\b\b\b\b\b\b\b\b\b\b\b\b\b\b\b\b\b\b\b\b\b\b\b\b\b\b\b\b\b\b\b\b\b\b\b\b\b\b\b\b\b\b\b\b\b\b\b\b\b\b\b\b\b\b\b\b\b\b\b\b\b\b\b\b\b\b\b\b\b\b\b\b\b\b\b\b\r3424/3823 [=========================>....] - ETA: 0s - loss: 0.1319 - acc: 0.9696"
     ]
    },
    {
     "name": "stdout",
     "output_type": "stream",
     "text": [
      "\b\b\b\b\b\b\b\b\b\b\b\b\b\b\b\b\b\b\b\b\b\b\b\b\b\b\b\b\b\b\b\b\b\b\b\b\b\b\b\b\b\b\b\b\b\b\b\b\b\b\b\b\b\b\b\b\b\b\b\b\b\b\b\b\b\b\b\b\b\b\b\b\b\b\b\b\b\b\b\b\b\r3823/3823 [==============================] - 0s 31us/step - loss: 0.1350 - acc: 0.9678\n"
     ]
    },
    {
     "name": "stdout",
     "output_type": "stream",
     "text": [
      "Epoch 16/20\n\r  32/3823 [..............................] - ETA: 0s - loss: 0.2324 - acc: 0.8750"
     ]
    },
    {
     "name": "stdout",
     "output_type": "stream",
     "text": [
      "\b\b\b\b\b\b\b\b\b\b\b\b\b\b\b\b\b\b\b\b\b\b\b\b\b\b\b\b\b\b\b\b\b\b\b\b\b\b\b\b\b\b\b\b\b\b\b\b\b\b\b\b\b\b\b\b\b\b\b\b\b\b\b\b\b\b\b\b\b\b\b\b\b\b\b\b\b\b\b\b\b\r1824/3823 [=============>................] - ETA: 0s - loss: 0.1307 - acc: 0.9655"
     ]
    },
    {
     "name": "stdout",
     "output_type": "stream",
     "text": [
      "\b\b\b\b\b\b\b\b\b\b\b\b\b\b\b\b\b\b\b\b\b\b\b\b\b\b\b\b\b\b\b\b\b\b\b\b\b\b\b\b\b\b\b\b\b\b\b\b\b\b\b\b\b\b\b\b\b\b\b\b\b\b\b\b\b\b\b\b\b\b\b\b\b\b\b\b\b\b\b\b\b\r3584/3823 [===========================>..] - ETA: 0s - loss: 0.1256 - acc: 0.9699"
     ]
    },
    {
     "name": "stdout",
     "output_type": "stream",
     "text": [
      "\b\b\b\b\b\b\b\b\b\b\b\b\b\b\b\b\b\b\b\b\b\b\b\b\b\b\b\b\b\b\b\b\b\b\b\b\b\b\b\b\b\b\b\b\b\b\b\b\b\b\b\b\b\b\b\b\b\b\b\b\b\b\b\b\b\b\b\b\b\b\b\b\b\b\b\b\b\b\b\b\b\r3823/3823 [==============================] - 0s 30us/step - loss: 0.1275 - acc: 0.9702\n"
     ]
    },
    {
     "name": "stdout",
     "output_type": "stream",
     "text": [
      "Epoch 17/20\n\r  32/3823 [..............................] - ETA: 0s - loss: 0.1348 - acc: 0.9688"
     ]
    },
    {
     "name": "stdout",
     "output_type": "stream",
     "text": [
      "\b\b\b\b\b\b\b\b\b\b\b\b\b\b\b\b\b\b\b\b\b\b\b\b\b\b\b\b\b\b\b\b\b\b\b\b\b\b\b\b\b\b\b\b\b\b\b\b\b\b\b\b\b\b\b\b\b\b\b\b\b\b\b\b\b\b\b\b\b\b\b\b\b\b\b\b\b\b\b\b\b\r1600/3823 [===========>..................] - ETA: 0s - loss: 0.1113 - acc: 0.9706"
     ]
    },
    {
     "name": "stdout",
     "output_type": "stream",
     "text": [
      "\b\b\b\b\b\b\b\b\b\b\b\b\b\b\b\b\b\b\b\b\b\b\b\b\b\b\b\b\b\b\b\b\b\b\b\b\b\b\b\b\b\b\b\b\b\b\b\b\b\b\b\b\b\b\b\b\b\b\b\b\b\b\b\b\b\b\b\b\b\b\b\b\b\b\b\b\b\b\b\b\b\r3488/3823 [==========================>...] - ETA: 0s - loss: 0.1162 - acc: 0.9708"
     ]
    },
    {
     "name": "stdout",
     "output_type": "stream",
     "text": [
      "\b\b\b\b\b\b\b\b\b\b\b\b\b\b\b\b\b\b\b\b\b\b\b\b\b\b\b\b\b\b\b\b\b\b\b\b\b\b\b\b\b\b\b\b\b\b\b\b\b\b\b\b\b\b\b\b\b\b\b\b\b\b\b\b\b\b\b\b\b\b\b\b\b\b\b\b\b\b\b\b\b\r3823/3823 [==============================] - 0s 30us/step - loss: 0.1209 - acc: 0.9702\n"
     ]
    },
    {
     "name": "stdout",
     "output_type": "stream",
     "text": [
      "Epoch 18/20\n\r  32/3823 [..............................] - ETA: 0s - loss: 0.0446 - acc: 1.0000"
     ]
    },
    {
     "name": "stdout",
     "output_type": "stream",
     "text": [
      "\b\b\b\b\b\b\b\b\b\b\b\b\b\b\b\b\b\b\b\b\b\b\b\b\b\b\b\b\b\b\b\b\b\b\b\b\b\b\b\b\b\b\b\b\b\b\b\b\b\b\b\b\b\b\b\b\b\b\b\b\b\b\b\b\b\b\b\b\b\b\b\b\b\b\b\b\b\b\b\b\b\r1856/3823 [=============>................] - ETA: 0s - loss: 0.1054 - acc: 0.9763"
     ]
    },
    {
     "name": "stdout",
     "output_type": "stream",
     "text": [
      "\b\b\b\b\b\b\b\b\b\b\b\b\b\b\b\b\b\b\b\b\b\b\b\b\b\b\b\b\b\b\b\b\b\b\b\b\b\b\b\b\b\b\b\b\b\b\b\b\b\b\b\b\b\b\b\b\b\b\b\b\b\b\b\b\b\b\b\b\b\b\b\b\b\b\b\b\b\b\b\b\b\r3520/3823 [==========================>...] - ETA: 0s - loss: 0.1158 - acc: 0.9710"
     ]
    },
    {
     "name": "stdout",
     "output_type": "stream",
     "text": [
      "\b\b\b\b\b\b\b\b\b\b\b\b\b\b\b\b\b\b\b\b\b\b\b\b\b\b\b\b\b\b\b\b\b\b\b\b\b\b\b\b\b\b\b\b\b\b\b\b\b\b\b\b\b\b\b\b\b\b\b\b\b\b\b\b\b\b\b\b\b\b\b\b\b\b\b\b\b\b\b\b\b\r3823/3823 [==============================] - 0s 32us/step - loss: 0.1152 - acc: 0.9710\n"
     ]
    },
    {
     "name": "stdout",
     "output_type": "stream",
     "text": [
      "Epoch 19/20\n\r  32/3823 [..............................] - ETA: 0s - loss: 0.2717 - acc: 0.9375"
     ]
    },
    {
     "name": "stdout",
     "output_type": "stream",
     "text": [
      "\b\b\b\b\b\b\b\b\b\b\b\b\b\b\b\b\b\b\b\b\b\b\b\b\b\b\b\b\b\b\b\b\b\b\b\b\b\b\b\b\b\b\b\b\b\b\b\b\b\b\b\b\b\b\b\b\b\b\b\b\b\b\b\b\b\b\b\b\b\b\b\b\b\b\b\b\b\b\b\b\b\r1568/3823 [===========>..................] - ETA: 0s - loss: 0.1161 - acc: 0.9707"
     ]
    },
    {
     "name": "stdout",
     "output_type": "stream",
     "text": [
      "\b\b\b\b\b\b\b\b\b\b\b\b\b\b\b\b\b\b\b\b\b\b\b\b\b\b\b\b\b\b\b\b\b\b\b\b\b\b\b\b\b\b\b\b\b\b\b\b\b\b\b\b\b\b\b\b\b\b\b\b\b\b\b\b\b\b\b\b\b\b\b\b\b\b\b\b\b\b\b\b\b\r3136/3823 [=======================>......] - ETA: 0s - loss: 0.1109 - acc: 0.9713"
     ]
    },
    {
     "name": "stdout",
     "output_type": "stream",
     "text": [
      "\b\b\b\b\b\b\b\b\b\b\b\b\b\b\b\b\b\b\b\b\b\b\b\b\b\b\b\b\b\b\b\b\b\b\b\b\b\b\b\b\b\b\b\b\b\b\b\b\b\b\b\b\b\b\b\b\b\b\b\b\b\b\b\b\b\b\b\b\b\b\b\b\b\b\b\b\b\b\b\b\b\r3823/3823 [==============================] - 0s 33us/step - loss: 0.1100 - acc: 0.9720\n"
     ]
    },
    {
     "name": "stdout",
     "output_type": "stream",
     "text": [
      "Epoch 20/20\n\r  32/3823 [..............................] - ETA: 0s - loss: 0.0841 - acc: 0.9688"
     ]
    },
    {
     "name": "stdout",
     "output_type": "stream",
     "text": [
      "\b\b\b\b\b\b\b\b\b\b\b\b\b\b\b\b\b\b\b\b\b\b\b\b\b\b\b\b\b\b\b\b\b\b\b\b\b\b\b\b\b\b\b\b\b\b\b\b\b\b\b\b\b\b\b\b\b\b\b\b\b\b\b\b\b\b\b\b\b\b\b\b\b\b\b\b\b\b\b\b\b"
     ]
    },
    {
     "name": "stdout",
     "output_type": "stream",
     "text": [
      "\r1344/3823 [=========>....................] - ETA: 0s - loss: 0.1159 - acc: 0.9710"
     ]
    },
    {
     "name": "stdout",
     "output_type": "stream",
     "text": [
      "\b\b\b\b\b\b\b\b\b\b\b\b\b\b\b\b\b\b\b\b\b\b\b\b\b\b\b\b\b\b\b\b\b\b\b\b\b\b\b\b\b\b\b\b\b\b\b\b\b\b\b\b\b\b\b\b\b\b\b\b\b\b\b\b\b\b\b\b\b\b\b\b\b\b\b\b\b\b\b\b\b\r3040/3823 [======================>.......] - ETA: 0s - loss: 0.1067 - acc: 0.9740"
     ]
    },
    {
     "name": "stdout",
     "output_type": "stream",
     "text": [
      "\b\b\b\b\b\b\b\b\b\b\b\b\b\b\b\b\b\b\b\b\b\b\b\b\b\b\b\b\b\b\b\b\b\b\b\b\b\b\b\b\b\b\b\b\b\b\b\b\b\b\b\b\b\b\b\b\b\b\b\b\b\b\b\b\b\b\b\b\b\b\b\b\b\b\b\b\b\b\b\b\b\r3823/3823 [==============================] - 0s 33us/step - loss: 0.1056 - acc: 0.9733\n"
     ]
    },
    {
     "data": {
      "text/plain": [
       "<keras.callbacks.History at 0x278ee75ce80>"
      ]
     },
     "execution_count": 18,
     "metadata": {},
     "output_type": "execute_result"
    }
   ],
   "source": [
    "# Train the model for a fixed amount of epochs\n",
    "model.fit(x.as_matrix(), y,\n",
    "          epochs=20)"
   ]
  },
  {
   "cell_type": "code",
   "execution_count": 19,
   "metadata": {},
   "outputs": [
    {
     "name": "stdout",
     "output_type": "stream",
     "text": [
      "\r  32/1797 [..............................] - ETA: 1s"
     ]
    },
    {
     "name": "stdout",
     "output_type": "stream",
     "text": [
      "\b\b\b\b\b\b\b\b\b\b\b\b\b\b\b\b\b\b\b\b\b\b\b\b\b\b\b\b\b\b\b\b\b\b\b\b\b\b\b\b\b\b\b\b\b\b\b\b\b\b\b\b\r1797/1797 [==============================] - 0s 29us/step\n"
     ]
    },
    {
     "name": "stdout",
     "output_type": "stream",
     "text": [
      "Loss: 0.18557541992237536 Accuracy 0.9415692821368948\n"
     ]
    },
    {
     "name": "stderr",
     "output_type": "stream",
     "text": [
      "C:\\Users\\Cameron\\Anaconda3\\lib\\site-packages\\ipykernel_launcher.py:2: FutureWarning: Method .as_matrix will be removed in a future version. Use .values instead.\n  \n"
     ]
    }
   ],
   "source": [
    "# Check the accuracy of the model on the test set\n",
    "score = model.evaluate(test.as_matrix(), test_label)\n",
    "print('Loss: {0} Accuracy {1}'.format(score[0], score[1]))"
   ]
  },
  {
   "cell_type": "code",
   "execution_count": 20,
   "metadata": {
    "collapsed": true
   },
   "outputs": [
    {
     "name": "stdout",
     "output_type": "stream",
     "text": [
      "[array([[-8.39899182e-02, -2.71123081e-01,  1.04885995e-02,\n        -2.47850358e-01, -7.15716481e-02, -2.47423410e-01,\n        -2.28406191e-01,  1.89225078e-02, -5.38599938e-02,\n        -2.55346388e-01],\n       [-2.84942716e-01, -2.64771014e-01, -3.67605910e-02,\n        -2.85908598e-02,  1.22491822e-01, -2.04150919e-02,\n         7.42179602e-02,  9.23032612e-02, -9.77505967e-02,\n        -4.16309871e-02],\n       [-1.47685096e-01, -1.40856877e-01, -1.88993007e-01,\n        -5.77501357e-02,  1.89730331e-01,  9.03048068e-02,\n         1.77553385e-01, -3.55079845e-02, -2.75454909e-01,\n        -9.56388712e-02],\n       [-1.40524015e-01, -1.42211124e-01,  2.73103714e-01,\n        -9.95252952e-02,  2.40732029e-01,  1.97173521e-01,\n         2.88619608e-01,  1.35091776e-02,  2.73862178e-03,\n         3.54225039e-02],\n       [-3.29132855e-01,  2.60330196e-02,  2.34922662e-01,\n         2.18450720e-03,  3.65714356e-02,  2.71878481e-01,\n         6.11238420e-01,  9.82859358e-03, -9.65029299e-02,\n        -1.55275628e-01],\n       [-9.87756159e-03,  2.63544112e-01,  2.60183483e-01,\n        -2.09557846e-01, -1.06060147e-01,  4.06278521e-01,\n         6.31542146e-01, -1.48941984e-03, -4.01085228e-01,\n        -1.69734627e-01],\n       [-3.84490192e-02, -5.93929827e-01, -2.70829588e-01,\n         9.24039260e-02, -1.03239231e-01,  2.72838920e-01,\n         3.57430249e-01,  2.23831460e-01, -2.12244898e-01,\n         9.18910489e-04],\n       [-1.98937252e-01, -2.03602836e-02, -7.99498618e-01,\n         8.44847560e-02, -2.68350154e-01, -9.81278419e-02,\n        -1.71960071e-01,  1.37792274e-01, -8.05676654e-02,\n         5.99249527e-02],\n       [ 7.18991607e-02,  2.21399605e-01,  1.21499293e-01,\n         1.25519753e-01, -3.36079975e-03, -2.32985541e-01,\n        -3.84513959e-02, -2.62746781e-01,  3.28262872e-03,\n        -4.59321767e-01],\n       [-1.96806520e-01,  2.30053756e-02, -7.77944829e-03,\n        -5.34514375e-02,  4.46960405e-02,  3.15912850e-02,\n        -1.59554705e-01, -1.84475884e-01, -3.67076874e-01,\n         3.15566473e-02],\n       [-1.17215633e-01, -7.82509297e-02,  5.20230770e-01,\n        -1.97930723e-01,  4.26265359e-01,  2.04778418e-01,\n         4.99186926e-02, -6.63761124e-02, -5.49272895e-01,\n         7.39170551e-01],\n       [-3.52066934e-01, -4.55003500e-01, -1.66635454e-01,\n         2.27680087e-01, -2.38884911e-02,  2.61933297e-01,\n         3.17651242e-01,  1.38935789e-01, -4.49667066e-01,\n        -2.65630096e-01],\n       [ 1.34090215e-01, -2.12871939e-01, -3.29039395e-01,\n        -1.23446286e-01,  3.08419555e-01,  2.45953083e-01,\n         8.42282474e-02, -1.17479548e-01,  2.08174601e-01,\n         6.07074238e-02],\n       [ 3.23557228e-01, -1.38806149e-01,  2.59675562e-01,\n        -3.21000069e-01,  5.73171303e-02,  3.50500256e-01,\n        -6.15292378e-02, -3.36494982e-01, -2.44239345e-01,\n         2.37367436e-01],\n       [-2.90091597e-02, -2.36359745e-01, -2.52909679e-02,\n        -1.75183952e-01, -2.52240807e-01, -1.66097373e-01,\n        -3.40601355e-01, -1.87701374e-01,  2.95995083e-02,\n        -1.32504478e-02],\n       [-4.36167233e-02, -2.72696078e-01, -4.71465439e-01,\n         8.03947449e-02,  1.35614395e-01,  8.34560990e-02,\n        -4.13612872e-01,  2.69500732e-01, -4.54341918e-02,\n        -4.09058273e-01],\n       [ 4.88561280e-02,  1.25218811e-03,  1.82220221e-01,\n        -1.54719278e-01,  2.23530695e-01, -1.79320261e-01,\n         2.42880091e-01, -2.89425999e-01,  2.63988465e-01,\n        -5.76535650e-02],\n       [ 1.83147833e-01,  4.18534428e-02,  1.15437597e-01,\n         1.21160306e-01, -4.25829828e-01, -1.42733343e-02,\n        -3.15212458e-02, -8.65717456e-02, -1.32134601e-01,\n         1.49923846e-01],\n       [ 8.60934496e-01,  5.70593297e-01,  2.97652632e-01,\n         4.27301049e-01, -3.72478753e-01, -4.82985638e-02,\n         2.82119185e-01,  3.55682708e-02, -1.23929806e-01,\n        -3.59332174e-01],\n       [ 8.60904276e-01,  3.83013440e-03, -1.45206615e-01,\n         1.22855388e-01, -5.87453306e-01, -4.23551708e-01,\n         2.68595397e-01, -2.86853075e-01,  3.68776947e-01,\n        -7.06456482e-01],\n       [ 3.30334336e-01, -5.00921905e-01, -2.05300838e-01,\n        -5.83642185e-01,  1.83239222e-01,  5.32936640e-02,\n        -3.12986583e-01, -4.58958775e-01,  3.62679631e-01,\n         4.47180457e-02],\n       [ 3.51638079e-01, -2.93496221e-01,  2.99033225e-01,\n        -1.96546242e-01,  2.41334617e-01, -6.62384927e-02,\n        -1.04790401e+00, -5.86755395e-01, -1.05773687e-01,\n         1.23343803e-01],\n       [ 8.12611505e-02,  4.55526970e-02, -4.55489606e-02,\n        -1.62578989e-02,  1.19777195e-01,  2.08684489e-01,\n        -7.40115821e-01,  7.93150514e-02, -8.28346536e-02,\n         2.40289405e-01],\n       [ 4.56406176e-03, -1.24501631e-01, -6.21573180e-02,\n        -6.47144988e-02, -7.92171881e-02, -2.58167420e-05,\n        -6.34022892e-01, -1.01957418e-01,  1.74322408e-02,\n        -7.63638243e-02],\n       [-7.05680370e-01, -7.86141157e-01, -1.86038062e-01,\n        -9.81220603e-02,  2.10181579e-01, -2.32013948e-02,\n        -2.40745634e-01,  4.77374624e-03,  3.35046127e-02,\n        -5.07414162e-01],\n       [ 2.07111001e-01, -7.00424090e-02, -5.35813868e-02,\n         3.65327418e-01, -1.69187188e-02, -2.04861879e-01,\n         1.07914932e-01,  2.61447653e-02,  1.56752214e-01,\n        -2.21949190e-01],\n       [ 2.71189332e-01,  2.07979426e-01,  2.02287316e-01,\n         4.89371687e-01, -2.72400290e-01,  3.58933926e-01,\n         1.65749893e-01, -3.08884472e-01,  2.98532069e-01,\n        -7.42879510e-01],\n       [ 2.47139603e-01,  9.87366512e-02,  5.26249826e-01,\n        -2.28706464e-01, -1.53822288e-01, -2.80205220e-01,\n         2.43912682e-01, -6.64676905e-01,  4.19636190e-01,\n        -5.39526224e-01],\n       [ 2.60462463e-01, -2.42594630e-01,  3.45353067e-01,\n        -6.19680285e-01, -1.31975085e-01,  3.26548547e-01,\n         1.89420983e-01,  6.21826621e-03,  7.27471888e-01,\n         2.91690648e-01],\n       [ 9.14479554e-01,  6.74006268e-02, -2.26178691e-02,\n         1.40051112e-01, -9.25082266e-02,  1.98004991e-01,\n        -4.35431749e-01, -3.56062025e-01,  6.79876134e-02,\n        -4.31287289e-02],\n       [-5.87635040e-02, -2.82753140e-01, -4.59965855e-01,\n         3.55291069e-01, -7.77191743e-02,  4.46161240e-01,\n        -5.74457169e-01, -5.90264440e-01,  1.92854092e-01,\n        -1.12284616e-01],\n       [ 1.14319615e-01, -1.65311128e-01,  1.50601622e-02,\n        -4.60767746e-02, -2.26934254e-01, -2.31739059e-02,\n        -9.30284679e-01,  2.04312980e-01, -8.85544345e-02,\n        -3.17914546e-01],\n       [ 7.60002360e-02,  8.95235538e-02, -7.23743856e-01,\n         2.54879445e-01, -2.53226012e-01,  1.19220793e-01,\n        -7.97290578e-02,  1.62206709e-01,  2.23496128e-02,\n        -5.93389571e-01],\n       [-1.38210639e-01,  6.90798685e-02, -2.14587688e-01,\n         2.92763174e-01,  2.97940169e-02, -7.71462172e-02,\n        -1.22856483e-01,  1.26211941e-01,  4.68188059e-03,\n        -4.78825152e-01],\n       [-1.11496218e-01,  2.92732239e-01,  2.42350306e-02,\n         3.38563085e-01, -2.46358231e-01,  1.49851933e-01,\n        -3.35510999e-01,  1.25972003e-01,  1.04318984e-01,\n        -1.12684578e-01],\n       [ 8.29330366e-03,  1.65326908e-01,  2.95759499e-01,\n        -5.30234337e-01, -3.76379818e-01,  1.55726880e-01,\n         1.66039601e-01, -1.58309862e-01,  2.68738568e-01,\n         1.60921633e-01],\n       [-1.03046000e-01, -3.10316026e-01, -6.01178296e-02,\n        -4.66836244e-01, -2.24341884e-01,  4.87626530e-03,\n        -3.43877107e-01, -1.03694312e-01,  6.39132440e-01,\n         2.04535559e-01],\n       [ 1.26732305e-01, -1.30081788e-01, -1.29592136e-01,\n         3.09108347e-02,  1.38901159e-01,  2.09202319e-01,\n        -3.77126545e-01,  2.08429515e-01,  1.50317237e-01,\n        -2.34157905e-01],\n       [-1.78142458e-01,  2.93175548e-01, -2.48195425e-01,\n         6.20237589e-01,  1.19614661e-01,  4.78561521e-01,\n        -4.72965203e-02, -2.54686326e-01,  2.35454604e-01,\n         8.05634446e-03],\n       [ 1.68993473e-02, -5.30967265e-02, -1.75280407e-01,\n        -1.19443417e-01,  2.65281200e-02, -2.65698135e-01,\n        -1.35386750e-01,  6.53530061e-02,  2.78995126e-01,\n         2.00363845e-01],\n       [ 8.77498910e-02,  1.88195959e-01, -6.20522380e-01,\n         5.51140346e-02, -1.96417123e-01, -1.10332817e-01,\n        -1.47349695e-02,  8.19063708e-02,  5.46203218e-02,\n        -4.97966975e-01],\n       [-2.85831362e-01,  3.52390558e-01, -1.46440655e-01,\n         1.75167695e-01, -3.64378482e-01, -1.22310601e-01,\n        -2.28199780e-01, -2.52436399e-01,  4.73750830e-01,\n         2.25451328e-02],\n       [-5.12291312e-01,  8.12382340e-01,  4.14377712e-02,\n        -1.07198641e-01, -5.09143233e-01, -3.35044593e-01,\n        -4.46590513e-01,  3.91397417e-01,  2.67826706e-01,\n         5.13273239e-01],\n       [-2.56422371e-01,  3.13908547e-01, -4.24862117e-01,\n        -3.59401733e-01, -6.37276947e-01, -1.81250587e-01,\n         1.73309222e-01,  4.17975485e-01,  8.28476787e-01,\n         2.54860967e-01],\n       [ 9.06626135e-02,  1.15761459e-01, -9.86267924e-02,\n         1.28087789e-01, -4.80129749e-01,  1.97479520e-02,\n        -2.44079441e-01, -1.46220773e-01,  5.51370263e-01,\n        -1.93977773e-01],\n       [-2.48968415e-02,  2.44755328e-01,  3.28739174e-02,\n         3.34364566e-04,  4.13979590e-01, -3.21174026e-01,\n        -1.68345556e-01, -3.21433991e-01, -2.16713697e-01,\n        -2.13281021e-01],\n       [-2.30482951e-01,  4.69876289e-01, -1.84297025e-01,\n        -2.67825723e-01,  3.76822501e-01, -1.46100745e-01,\n        -1.25664070e-01, -2.57321030e-01, -2.00487643e-01,\n        -5.46938777e-01],\n       [-2.54970286e-02,  2.55723055e-02,  4.22404148e-03,\n        -3.30394357e-01, -2.11051077e-01,  1.07358158e-01,\n        -3.99714142e-01,  1.32967234e-01, -6.33869886e-01,\n         3.54957320e-02],\n       [-6.38580844e-02,  7.90968612e-02, -1.07284062e-01,\n         6.24227040e-02, -5.59515536e-01, -2.33648792e-02,\n         3.12755331e-02, -2.69014597e-01,  2.82020330e-01,\n        -2.38829348e-02],\n       [-1.45210400e-01, -2.60969788e-01,  3.70414048e-01,\n         1.54017940e-01, -2.30186030e-01, -1.35284930e-01,\n        -2.64040470e-01,  9.41347778e-02,  1.86579242e-01,\n         1.67568214e-02],\n       [ 6.53714240e-02,  3.28214973e-01,  3.40494543e-01,\n        -2.23997757e-01, -3.00225258e-01, -5.13000309e-01,\n        -3.39820236e-02,  1.20988466e-01, -2.01011032e-01,\n         2.44023427e-01],\n       [-3.45459729e-01,  1.40933832e-02, -5.27963459e-01,\n         3.21909483e-03, -3.90533172e-02, -2.26806358e-01,\n        -2.72200964e-02,  4.03814346e-01,  3.25807445e-02,\n         2.21488893e-01],\n       [-1.42091677e-01, -3.92181814e-01, -2.21603930e-01,\n         2.07506120e-01,  1.18610226e-01, -4.80703801e-01,\n         5.02352357e-01,  1.66374892e-01, -2.23757401e-01,\n         2.41325766e-01],\n       [-1.46510899e-01,  4.85026568e-01,  2.61620671e-01,\n         1.76020451e-02,  6.08099937e-01, -7.61550665e-01,\n         3.13257486e-01,  2.39780709e-01, -3.44829202e-01,\n         1.08633302e-01],\n       [-1.31560832e-01,  1.19237099e-02,  5.46999983e-02,\n        -3.25309932e-01,  9.75351408e-02, -2.49852508e-01,\n         1.04879953e-01,  1.24252006e-01, -5.55785179e-01,\n         3.19001257e-01],\n       [-7.23544322e-03, -2.11955190e-01, -1.84633717e-01,\n        -6.51944995e-01, -6.11049794e-02, -4.40604657e-01,\n        -2.88322140e-02,  6.57756850e-02, -6.35538936e-01,\n        -2.43420616e-01],\n       [-1.18429750e-01, -7.89829671e-01, -6.12717234e-02,\n         1.28005952e-01, -6.86418295e-01, -3.91697921e-02,\n         3.69930710e-03, -2.71724164e-01,  5.67381382e-02,\n         2.17302948e-01],\n       [ 1.38747349e-01, -5.10980427e-01, -2.51612872e-01,\n         1.65784433e-01,  1.40497565e-01,  7.93096870e-02,\n         4.99536917e-02,  1.21075779e-01, -2.46817470e-01,\n         1.15452968e-01],\n       [ 1.44398689e-01, -3.41161430e-01, -1.88546181e-01,\n         3.60864073e-01,  4.68857557e-01,  1.60238415e-01,\n         4.36247289e-01,  1.08995646e-01,  3.35926414e-02,\n         2.57487893e-01],\n       [-3.52778956e-02, -1.40187368e-02,  6.01556957e-01,\n         2.10038777e-02,  3.89167130e-01, -1.58383861e-01,\n         4.36834544e-01,  2.01715633e-01, -2.79342145e-01,\n         1.94321632e-01],\n       [ 1.11199215e-01,  1.94078088e-01, -1.71979070e-02,\n        -1.57538518e-01,  4.32468206e-01, -6.26198232e-01,\n         2.75486052e-01,  1.65338725e-01, -2.63101906e-01,\n         1.45752981e-01],\n       [ 3.93803149e-01,  2.11615503e-01, -1.67376071e-01,\n        -3.59187782e-01, -1.23418726e-01, -2.08087161e-01,\n        -2.37402037e-01,  3.51579219e-01,  2.76549198e-02,\n         1.92758769e-01],\n       [ 2.98126966e-01, -1.10006124e-01, -1.65878519e-01,\n        -3.84715706e-01, -2.71576881e-01, -2.11548686e-01,\n         1.51241198e-01,  3.24766219e-01, -1.51917441e-02,\n         1.95553035e-01],\n       [ 1.33138299e-01, -2.68716421e-02, -3.16276103e-01,\n        -6.31730616e-01, -1.68577418e-01,  1.51102105e-02,\n         1.24819525e-01, -2.20799759e-01, -5.09175956e-01,\n         2.64465392e-01]], dtype=float32), array([0.5106118 , 0.61055475, 0.70511913, 0.43104866, 0.5737082 ,\n       0.17450425, 0.65508175, 0.13245355, 0.37043184, 0.3633604 ],\n      dtype=float32)]\n[array([[-0.39224023,  0.69438326,  0.02387036, -0.77994865,  0.12151264,\n         0.06545249, -0.7746422 , -0.86666244,  0.00661675,  0.61448365],\n       [ 0.4660713 , -0.5474939 , -0.94886667, -0.92792815,  0.13578552,\n        -0.10977367,  0.8937013 , -0.23428981,  0.36316052, -0.59537333],\n       [-0.302318  , -0.8681745 , -0.27741966,  0.49633098, -0.5842505 ,\n         0.39809957, -0.06733804, -0.735003  ,  0.98263055,  0.59595764],\n       [ 1.0511265 , -0.51380396, -0.05862204, -0.43269905,  0.7260753 ,\n         0.45027807, -0.2851836 , -0.3025689 , -0.32735267, -0.07880738],\n       [ 0.21520434, -0.33973455, -0.10985052,  0.8153874 , -0.9952443 ,\n        -0.08077186, -0.525909  , -0.38358286, -0.9657192 ,  0.4926789 ],\n       [-0.56990343, -0.7598238 , -0.7632261 , -0.24304277, -0.1140037 ,\n        -0.04007839, -0.2940844 ,  0.99103653, -0.62264717,  0.5391978 ],\n       [-0.5705505 ,  0.63174164,  0.16239645,  0.12262682, -0.9218471 ,\n         0.7854202 , -0.14525819, -0.55492324,  0.10422206, -0.63207227],\n       [-0.6622693 , -0.08891594,  0.7020338 , -0.47285357, -0.04704139,\n        -0.18712538,  0.82407737,  0.20877482, -0.84664124, -0.899256  ],\n       [-0.9339097 ,  0.80276716, -0.29307243, -0.60341763,  0.65465015,\n        -0.6276344 , -0.21373045,  0.3546898 ,  0.2238792 , -0.47089776],\n       [-0.37453356, -0.29840595,  0.9851555 ,  0.1423348 , -0.17612873,\n        -1.0105776 , -0.36338526,  0.21963057,  0.34632936, -0.77196825]],\n      dtype=float32), array([ 0.07067656,  0.16339047, -0.2978765 ,  0.25473255, -0.00398891,\n       -0.25915006, -0.26859954, -0.24042724,  0.4252144 ,  0.00172089],\n      dtype=float32)]\n"
     ]
    }
   ],
   "source": [
    "# see what the network weights look like\n",
    "for layer in model.layers:\n",
    "    weights = layer.get_weights()  # list of numpy arrays\n",
    "    print(weights)"
   ]
  },
  {
   "cell_type": "code",
   "execution_count": 22,
   "metadata": {},
   "outputs": [],
   "source": [
    "# save the model for later use\n",
    "filename = 'NumNet/models/tictacModel'\n",
    "model.save(add_timestamp(filename))"
   ]
  }
 ],
 "metadata": {
  "kernelspec": {
   "display_name": "Python 3",
   "language": "python",
   "name": "python3"
  },
  "language_info": {
   "codemirror_mode": {
    "name": "ipython",
    "version": 3
   },
   "file_extension": ".py",
   "mimetype": "text/x-python",
   "name": "python",
   "nbconvert_exporter": "python",
   "pygments_lexer": "ipython3",
   "version": "3.6.5"
  }
 },
 "nbformat": 4,
 "nbformat_minor": 1
}
